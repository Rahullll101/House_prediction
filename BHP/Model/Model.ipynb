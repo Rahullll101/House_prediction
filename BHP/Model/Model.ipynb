{
  "cells": [
    {
      "cell_type": "code",
      "execution_count": 147,
      "metadata": {
        "id": "da916511"
      },
      "outputs": [],
      "source": [
        "import pandas as pd\n",
        "import numpy as np\n",
        "import matplotlib.pyplot as plt\n",
        "import seaborn as sns\n",
        "from sklearn.linear_model import LinearRegression, LogisticRegression\n",
        "from sklearn.tree import DecisionTreeRegressor\n",
        "from sklearn.model_selection import train_test_split,GridSearchCV\n",
        "from sklearn.metrics import confusion_matrix, classification_report,accuracy_score,mean_squared_error,r2_score,mean_absolute_error\n",
        "from sklearn.preprocessing import OneHotEncoder,StandardScaler\n",
        "from sklearn.compose import ColumnTransformer\n",
        "from sklearn.preprocessing import OneHotEncoder, StandardScaler\n",
        "from sklearn.pipeline import Pipeline\n",
        "from sklearn.impute import SimpleImputer\n",
        "from sklearn.ensemble import RandomForestRegressor\n",
        "from sklearn.model_selection import train_test_split\n",
        "from sklearn.metrics import r2_score, mean_absolute_error"
      ]
    },
    {
      "cell_type": "code",
      "execution_count": 148,
      "metadata": {
        "id": "54325aac"
      },
      "outputs": [],
      "source": [
        "df = pd.read_csv('Bengaluru_House_Data.csv')"
      ]
    },
    {
      "cell_type": "code",
      "execution_count": 149,
      "metadata": {
        "colab": {
          "base_uri": "https://localhost:8080/"
        },
        "id": "1e564408",
        "outputId": "7c0cb1c6-ad9c-4a8c-a951-8f4ae5a2dc21"
      },
      "outputs": [
        {
          "data": {
            "text/plain": [
              "(13320, 12)"
            ]
          },
          "execution_count": 149,
          "metadata": {},
          "output_type": "execute_result"
        }
      ],
      "source": [
        "df.shape"
      ]
    },
    {
      "cell_type": "code",
      "execution_count": 150,
      "metadata": {
        "colab": {
          "base_uri": "https://localhost:8080/",
          "height": 206
        },
        "id": "a5d4975a",
        "outputId": "fc0dbcca-a7be-411b-af20-83cadea51f79"
      },
      "outputs": [
        {
          "data": {
            "text/html": [
              "<div>\n",
              "<style scoped>\n",
              "    .dataframe tbody tr th:only-of-type {\n",
              "        vertical-align: middle;\n",
              "    }\n",
              "\n",
              "    .dataframe tbody tr th {\n",
              "        vertical-align: top;\n",
              "    }\n",
              "\n",
              "    .dataframe thead th {\n",
              "        text-align: right;\n",
              "    }\n",
              "</style>\n",
              "<table border=\"1\" class=\"dataframe\">\n",
              "  <thead>\n",
              "    <tr style=\"text-align: right;\">\n",
              "      <th></th>\n",
              "      <th>area_type</th>\n",
              "      <th>availability</th>\n",
              "      <th>location</th>\n",
              "      <th>size</th>\n",
              "      <th>society</th>\n",
              "      <th>total_sqft</th>\n",
              "      <th>bath</th>\n",
              "      <th>balcony</th>\n",
              "      <th>price</th>\n",
              "      <th>Lat</th>\n",
              "      <th>Lon</th>\n",
              "      <th>Nearby_Metro</th>\n",
              "    </tr>\n",
              "  </thead>\n",
              "  <tbody>\n",
              "    <tr>\n",
              "      <th>0</th>\n",
              "      <td>Super built-up  Area</td>\n",
              "      <td>19-Dec</td>\n",
              "      <td>Electronic City Phase II</td>\n",
              "      <td>2 BHK</td>\n",
              "      <td>Coomee</td>\n",
              "      <td>1056</td>\n",
              "      <td>2.0</td>\n",
              "      <td>1.0</td>\n",
              "      <td>39.07</td>\n",
              "      <td>12.846351</td>\n",
              "      <td>77.669098</td>\n",
              "      <td>No</td>\n",
              "    </tr>\n",
              "    <tr>\n",
              "      <th>1</th>\n",
              "      <td>Plot  Area</td>\n",
              "      <td>Ready To Move</td>\n",
              "      <td>Chikka Tirupathi</td>\n",
              "      <td>4 Bedroom</td>\n",
              "      <td>Theanmp</td>\n",
              "      <td>2600</td>\n",
              "      <td>5.0</td>\n",
              "      <td>3.0</td>\n",
              "      <td>120.00</td>\n",
              "      <td>12.895768</td>\n",
              "      <td>77.867101</td>\n",
              "      <td>No</td>\n",
              "    </tr>\n",
              "    <tr>\n",
              "      <th>2</th>\n",
              "      <td>Built-up  Area</td>\n",
              "      <td>Ready To Move</td>\n",
              "      <td>Uttarahalli</td>\n",
              "      <td>3 BHK</td>\n",
              "      <td>NaN</td>\n",
              "      <td>1440</td>\n",
              "      <td>2.0</td>\n",
              "      <td>3.0</td>\n",
              "      <td>62.00</td>\n",
              "      <td>12.905568</td>\n",
              "      <td>77.545544</td>\n",
              "      <td>No</td>\n",
              "    </tr>\n",
              "    <tr>\n",
              "      <th>3</th>\n",
              "      <td>Super built-up  Area</td>\n",
              "      <td>Ready To Move</td>\n",
              "      <td>Lingadheeranahalli</td>\n",
              "      <td>3 BHK</td>\n",
              "      <td>Soiewre</td>\n",
              "      <td>1521</td>\n",
              "      <td>3.0</td>\n",
              "      <td>1.0</td>\n",
              "      <td>95.00</td>\n",
              "      <td>13.002669</td>\n",
              "      <td>77.491542</td>\n",
              "      <td>No</td>\n",
              "    </tr>\n",
              "    <tr>\n",
              "      <th>4</th>\n",
              "      <td>Super built-up  Area</td>\n",
              "      <td>Ready To Move</td>\n",
              "      <td>Kothanur</td>\n",
              "      <td>2 BHK</td>\n",
              "      <td>NaN</td>\n",
              "      <td>1200</td>\n",
              "      <td>2.0</td>\n",
              "      <td>1.0</td>\n",
              "      <td>51.00</td>\n",
              "      <td>13.061360</td>\n",
              "      <td>77.649389</td>\n",
              "      <td>No</td>\n",
              "    </tr>\n",
              "  </tbody>\n",
              "</table>\n",
              "</div>"
            ],
            "text/plain": [
              "              area_type   availability                  location       size  \\\n",
              "0  Super built-up  Area         19-Dec  Electronic City Phase II      2 BHK   \n",
              "1            Plot  Area  Ready To Move          Chikka Tirupathi  4 Bedroom   \n",
              "2        Built-up  Area  Ready To Move               Uttarahalli      3 BHK   \n",
              "3  Super built-up  Area  Ready To Move        Lingadheeranahalli      3 BHK   \n",
              "4  Super built-up  Area  Ready To Move                  Kothanur      2 BHK   \n",
              "\n",
              "   society total_sqft  bath  balcony   price        Lat        Lon  \\\n",
              "0  Coomee        1056   2.0      1.0   39.07  12.846351  77.669098   \n",
              "1  Theanmp       2600   5.0      3.0  120.00  12.895768  77.867101   \n",
              "2      NaN       1440   2.0      3.0   62.00  12.905568  77.545544   \n",
              "3  Soiewre       1521   3.0      1.0   95.00  13.002669  77.491542   \n",
              "4      NaN       1200   2.0      1.0   51.00  13.061360  77.649389   \n",
              "\n",
              "  Nearby_Metro  \n",
              "0           No  \n",
              "1           No  \n",
              "2           No  \n",
              "3           No  \n",
              "4           No  "
            ]
          },
          "execution_count": 150,
          "metadata": {},
          "output_type": "execute_result"
        }
      ],
      "source": [
        "df.head()"
      ]
    },
    {
      "cell_type": "code",
      "execution_count": 151,
      "metadata": {
        "colab": {
          "base_uri": "https://localhost:8080/"
        },
        "id": "aacfbeb4",
        "outputId": "36c0514f-14c6-4d02-afde-46cafbdeb656"
      },
      "outputs": [
        {
          "name": "stdout",
          "output_type": "stream",
          "text": [
            "<class 'pandas.core.frame.DataFrame'>\n",
            "RangeIndex: 13320 entries, 0 to 13319\n",
            "Data columns (total 12 columns):\n",
            " #   Column        Non-Null Count  Dtype  \n",
            "---  ------        --------------  -----  \n",
            " 0   area_type     13320 non-null  object \n",
            " 1   availability  13320 non-null  object \n",
            " 2   location      13319 non-null  object \n",
            " 3   size          13304 non-null  object \n",
            " 4   society       7818 non-null   object \n",
            " 5   total_sqft    13320 non-null  object \n",
            " 6   bath          13247 non-null  float64\n",
            " 7   balcony       12711 non-null  float64\n",
            " 8   price         13320 non-null  float64\n",
            " 9   Lat           11949 non-null  float64\n",
            " 10  Lon           11949 non-null  float64\n",
            " 11  Nearby_Metro  13320 non-null  object \n",
            "dtypes: float64(5), object(7)\n",
            "memory usage: 1.2+ MB\n"
          ]
        }
      ],
      "source": [
        "df.info()"
      ]
    },
    {
      "cell_type": "code",
      "execution_count": 152,
      "metadata": {
        "colab": {
          "base_uri": "https://localhost:8080/",
          "height": 300
        },
        "id": "32f78ee1",
        "outputId": "5514339f-b5b0-4ad0-db11-75d222f5f6ce"
      },
      "outputs": [
        {
          "data": {
            "text/html": [
              "<div>\n",
              "<style scoped>\n",
              "    .dataframe tbody tr th:only-of-type {\n",
              "        vertical-align: middle;\n",
              "    }\n",
              "\n",
              "    .dataframe tbody tr th {\n",
              "        vertical-align: top;\n",
              "    }\n",
              "\n",
              "    .dataframe thead th {\n",
              "        text-align: right;\n",
              "    }\n",
              "</style>\n",
              "<table border=\"1\" class=\"dataframe\">\n",
              "  <thead>\n",
              "    <tr style=\"text-align: right;\">\n",
              "      <th></th>\n",
              "      <th>bath</th>\n",
              "      <th>balcony</th>\n",
              "      <th>price</th>\n",
              "      <th>Lat</th>\n",
              "      <th>Lon</th>\n",
              "    </tr>\n",
              "  </thead>\n",
              "  <tbody>\n",
              "    <tr>\n",
              "      <th>count</th>\n",
              "      <td>13247.000000</td>\n",
              "      <td>12711.000000</td>\n",
              "      <td>13320.000000</td>\n",
              "      <td>11949.000000</td>\n",
              "      <td>11949.000000</td>\n",
              "    </tr>\n",
              "    <tr>\n",
              "      <th>mean</th>\n",
              "      <td>2.692610</td>\n",
              "      <td>1.584376</td>\n",
              "      <td>112.565627</td>\n",
              "      <td>12.962486</td>\n",
              "      <td>77.630923</td>\n",
              "    </tr>\n",
              "    <tr>\n",
              "      <th>std</th>\n",
              "      <td>1.341458</td>\n",
              "      <td>0.817263</td>\n",
              "      <td>148.971674</td>\n",
              "      <td>0.138958</td>\n",
              "      <td>0.158083</td>\n",
              "    </tr>\n",
              "    <tr>\n",
              "      <th>min</th>\n",
              "      <td>1.000000</td>\n",
              "      <td>0.000000</td>\n",
              "      <td>8.000000</td>\n",
              "      <td>12.695014</td>\n",
              "      <td>76.108564</td>\n",
              "    </tr>\n",
              "    <tr>\n",
              "      <th>25%</th>\n",
              "      <td>2.000000</td>\n",
              "      <td>1.000000</td>\n",
              "      <td>50.000000</td>\n",
              "      <td>12.908945</td>\n",
              "      <td>77.580061</td>\n",
              "    </tr>\n",
              "    <tr>\n",
              "      <th>50%</th>\n",
              "      <td>2.000000</td>\n",
              "      <td>2.000000</td>\n",
              "      <td>72.000000</td>\n",
              "      <td>12.955257</td>\n",
              "      <td>77.630364</td>\n",
              "    </tr>\n",
              "    <tr>\n",
              "      <th>75%</th>\n",
              "      <td>3.000000</td>\n",
              "      <td>2.000000</td>\n",
              "      <td>120.000000</td>\n",
              "      <td>13.011019</td>\n",
              "      <td>77.670188</td>\n",
              "    </tr>\n",
              "    <tr>\n",
              "      <th>max</th>\n",
              "      <td>40.000000</td>\n",
              "      <td>3.000000</td>\n",
              "      <td>3600.000000</td>\n",
              "      <td>17.734263</td>\n",
              "      <td>83.278304</td>\n",
              "    </tr>\n",
              "  </tbody>\n",
              "</table>\n",
              "</div>"
            ],
            "text/plain": [
              "               bath       balcony         price           Lat           Lon\n",
              "count  13247.000000  12711.000000  13320.000000  11949.000000  11949.000000\n",
              "mean       2.692610      1.584376    112.565627     12.962486     77.630923\n",
              "std        1.341458      0.817263    148.971674      0.138958      0.158083\n",
              "min        1.000000      0.000000      8.000000     12.695014     76.108564\n",
              "25%        2.000000      1.000000     50.000000     12.908945     77.580061\n",
              "50%        2.000000      2.000000     72.000000     12.955257     77.630364\n",
              "75%        3.000000      2.000000    120.000000     13.011019     77.670188\n",
              "max       40.000000      3.000000   3600.000000     17.734263     83.278304"
            ]
          },
          "execution_count": 152,
          "metadata": {},
          "output_type": "execute_result"
        }
      ],
      "source": [
        "df.describe()"
      ]
    },
    {
      "cell_type": "code",
      "execution_count": 153,
      "metadata": {
        "id": "f540f54a"
      },
      "outputs": [],
      "source": [
        "# from geopy.geocoders import Nominatim\n",
        "# from geopy.distance import geodesic\n",
        "# import time, os, pickle\n",
        "\n",
        "# # --- Cache Setup ---\n",
        "# CACHE_FILE = \"geo_cache.pkl\"\n",
        "# cache = pickle.load(open(CACHE_FILE, \"rb\")) if os.path.exists(CACHE_FILE) else {}\n",
        "# geo = Nominatim(user_agent=\"geo_app\")\n",
        "\n",
        "# def get_latlon(place):\n",
        "#     if place in cache:\n",
        "#         return cache[place]\n",
        "#     try:\n",
        "#         loc = geo.geocode(place)\n",
        "#         if loc:\n",
        "#             coords = (loc.latitude, loc.longitude)\n",
        "#             cache[place] = coords\n",
        "#             with open(CACHE_FILE, \"wb\") as f: pickle.dump(cache, f)\n",
        "#             time.sleep(1)\n",
        "#             return coords\n",
        "#     except:\n",
        "#         return None\n",
        "#     return None\n",
        "\n",
        "# def geo_df(df, col):\n",
        "#     df[[\"Lat\", \"Lon\"]] = df[col].apply(\n",
        "#         lambda x: pd.Series(get_latlon(f\"{x}, Bengaluru\"))\n",
        "#     )\n",
        "#     return df\n",
        "\n",
        "# def near_check(lat, lon, metro_df, radius=2):\n",
        "#     # Check if the house location is valid\n",
        "#     if pd.isna(lat) or pd.isna(lon):\n",
        "#         return \"No\"\n",
        "\n",
        "#     for _, r in metro_df.iterrows():\n",
        "#         # Check if the metro station location is valid before calculating distance\n",
        "#         if pd.isna(r[\"Lat\"]) or pd.isna(r[\"Lon\"]):\n",
        "#             continue  # Skip to the next metro station if coordinates are missing\n",
        "\n",
        "#         if geodesic((lat, lon), (r[\"Lat\"], r[\"Lon\"])).km <= radius:\n",
        "#             return \"Yes\"\n",
        "\n",
        "#     return \"No\"\n",
        "\n",
        "# # --- Use ---\n",
        "# metro_df = pd.read_csv(\"Namma_Metro_stations(Bengaluru).csv\")\n",
        "# df       = pd.read_csv(\"Housing_with_metro.csv\")\n",
        "\n",
        "# # metro_df = geo_df(metro_df, \"Station Name (English)\")\n",
        "# # df       = geo_df(df, \"location\")\n",
        "\n",
        "# df[\"Nearby_Metro\"] = df.apply(lambda r: near_check(r[\"Lat\"], r[\"Lon\"], df), axis=1)\n",
        "\n",
        "# df.to_csv(\"Housing_with_metro.csv\", index=False)\n",
        "# print(\"✅ Done! Missing locations marked as 'No'. File saved.\")\n"
      ]
    },
    {
      "cell_type": "code",
      "execution_count": 154,
      "metadata": {
        "colab": {
          "base_uri": "https://localhost:8080/"
        },
        "id": "85f3f5a3",
        "outputId": "8d991c55-89c1-401d-9370-ec90a3416e53"
      },
      "outputs": [
        {
          "data": {
            "text/plain": [
              "array([ 1.,  3., nan,  2.,  0.])"
            ]
          },
          "execution_count": 154,
          "metadata": {},
          "output_type": "execute_result"
        }
      ],
      "source": [
        "df['balcony'].unique()"
      ]
    },
    {
      "cell_type": "code",
      "execution_count": 155,
      "metadata": {
        "colab": {
          "base_uri": "https://localhost:8080/",
          "height": 206
        },
        "id": "9ecfa22b",
        "outputId": "eff77684-ccd1-4bb3-c6cb-52bad5ddb857"
      },
      "outputs": [
        {
          "data": {
            "text/html": [
              "<div>\n",
              "<style scoped>\n",
              "    .dataframe tbody tr th:only-of-type {\n",
              "        vertical-align: middle;\n",
              "    }\n",
              "\n",
              "    .dataframe tbody tr th {\n",
              "        vertical-align: top;\n",
              "    }\n",
              "\n",
              "    .dataframe thead th {\n",
              "        text-align: right;\n",
              "    }\n",
              "</style>\n",
              "<table border=\"1\" class=\"dataframe\">\n",
              "  <thead>\n",
              "    <tr style=\"text-align: right;\">\n",
              "      <th></th>\n",
              "      <th>area_type</th>\n",
              "      <th>availability</th>\n",
              "      <th>location</th>\n",
              "      <th>size</th>\n",
              "      <th>total_sqft</th>\n",
              "      <th>bath</th>\n",
              "      <th>price</th>\n",
              "      <th>Lat</th>\n",
              "      <th>Lon</th>\n",
              "      <th>Nearby_Metro</th>\n",
              "    </tr>\n",
              "  </thead>\n",
              "  <tbody>\n",
              "    <tr>\n",
              "      <th>0</th>\n",
              "      <td>Super built-up  Area</td>\n",
              "      <td>19-Dec</td>\n",
              "      <td>Electronic City Phase II</td>\n",
              "      <td>2 BHK</td>\n",
              "      <td>1056</td>\n",
              "      <td>2.0</td>\n",
              "      <td>39.07</td>\n",
              "      <td>12.846351</td>\n",
              "      <td>77.669098</td>\n",
              "      <td>No</td>\n",
              "    </tr>\n",
              "    <tr>\n",
              "      <th>1</th>\n",
              "      <td>Plot  Area</td>\n",
              "      <td>Ready To Move</td>\n",
              "      <td>Chikka Tirupathi</td>\n",
              "      <td>4 Bedroom</td>\n",
              "      <td>2600</td>\n",
              "      <td>5.0</td>\n",
              "      <td>120.00</td>\n",
              "      <td>12.895768</td>\n",
              "      <td>77.867101</td>\n",
              "      <td>No</td>\n",
              "    </tr>\n",
              "    <tr>\n",
              "      <th>2</th>\n",
              "      <td>Built-up  Area</td>\n",
              "      <td>Ready To Move</td>\n",
              "      <td>Uttarahalli</td>\n",
              "      <td>3 BHK</td>\n",
              "      <td>1440</td>\n",
              "      <td>2.0</td>\n",
              "      <td>62.00</td>\n",
              "      <td>12.905568</td>\n",
              "      <td>77.545544</td>\n",
              "      <td>No</td>\n",
              "    </tr>\n",
              "    <tr>\n",
              "      <th>3</th>\n",
              "      <td>Super built-up  Area</td>\n",
              "      <td>Ready To Move</td>\n",
              "      <td>Lingadheeranahalli</td>\n",
              "      <td>3 BHK</td>\n",
              "      <td>1521</td>\n",
              "      <td>3.0</td>\n",
              "      <td>95.00</td>\n",
              "      <td>13.002669</td>\n",
              "      <td>77.491542</td>\n",
              "      <td>No</td>\n",
              "    </tr>\n",
              "    <tr>\n",
              "      <th>4</th>\n",
              "      <td>Super built-up  Area</td>\n",
              "      <td>Ready To Move</td>\n",
              "      <td>Kothanur</td>\n",
              "      <td>2 BHK</td>\n",
              "      <td>1200</td>\n",
              "      <td>2.0</td>\n",
              "      <td>51.00</td>\n",
              "      <td>13.061360</td>\n",
              "      <td>77.649389</td>\n",
              "      <td>No</td>\n",
              "    </tr>\n",
              "  </tbody>\n",
              "</table>\n",
              "</div>"
            ],
            "text/plain": [
              "              area_type   availability                  location       size  \\\n",
              "0  Super built-up  Area         19-Dec  Electronic City Phase II      2 BHK   \n",
              "1            Plot  Area  Ready To Move          Chikka Tirupathi  4 Bedroom   \n",
              "2        Built-up  Area  Ready To Move               Uttarahalli      3 BHK   \n",
              "3  Super built-up  Area  Ready To Move        Lingadheeranahalli      3 BHK   \n",
              "4  Super built-up  Area  Ready To Move                  Kothanur      2 BHK   \n",
              "\n",
              "  total_sqft  bath   price        Lat        Lon Nearby_Metro  \n",
              "0       1056   2.0   39.07  12.846351  77.669098           No  \n",
              "1       2600   5.0  120.00  12.895768  77.867101           No  \n",
              "2       1440   2.0   62.00  12.905568  77.545544           No  \n",
              "3       1521   3.0   95.00  13.002669  77.491542           No  \n",
              "4       1200   2.0   51.00  13.061360  77.649389           No  "
            ]
          },
          "execution_count": 155,
          "metadata": {},
          "output_type": "execute_result"
        }
      ],
      "source": [
        "df = df.drop(['society', 'balcony'], axis=1, errors='ignore')\n",
        "\n",
        "df.head()"
      ]
    },
    {
      "cell_type": "code",
      "execution_count": 156,
      "metadata": {
        "id": "d8d4e841"
      },
      "outputs": [],
      "source": [
        "# df = df.dropna()\n",
        "# print(df.shape)\n"
      ]
    },
    {
      "cell_type": "code",
      "execution_count": 157,
      "metadata": {
        "colab": {
          "base_uri": "https://localhost:8080/"
        },
        "id": "6155380e",
        "outputId": "33691554-2ab6-47a3-c164-2a34fb59a7dd"
      },
      "outputs": [
        {
          "data": {
            "text/plain": [
              "array(['Electronic City Phase II', 'Chikka Tirupathi', 'Uttarahalli', ...,\n",
              "       '12th cross srinivas nagar banshankari 3rd stage',\n",
              "       'Havanur extension', 'Abshot Layout'], shape=(1306,), dtype=object)"
            ]
          },
          "execution_count": 157,
          "metadata": {},
          "output_type": "execute_result"
        }
      ],
      "source": [
        "df['location'].unique()"
      ]
    },
    {
      "cell_type": "code",
      "execution_count": 158,
      "metadata": {
        "id": "40e5a7f4"
      },
      "outputs": [],
      "source": [
        "df['location'] = df['location'].fillna(df['location'].mode)"
      ]
    },
    {
      "cell_type": "code",
      "execution_count": 159,
      "metadata": {
        "colab": {
          "base_uri": "https://localhost:8080/",
          "height": 428
        },
        "id": "b86f1ebd",
        "outputId": "3b9a2fc7-2bbb-4a04-ee7f-9a6a1f5f79e7"
      },
      "outputs": [
        {
          "data": {
            "text/plain": [
              "<Axes: ylabel='bath'>"
            ]
          },
          "execution_count": 159,
          "metadata": {},
          "output_type": "execute_result"
        },
        {
          "data": {
            "image/png": "[encoded data removed]",
            "text/plain": [
              "<Figure size 1500x1000 with 1 Axes>"
            ]
          },
          "metadata": {},
          "output_type": "display_data"
        }
      ],
      "source": [
        "sns.boxplot(df['bath'])"
      ]
    },
    {
      "cell_type": "code",
      "execution_count": 160,
      "metadata": {
        "id": "9ab21d91"
      },
      "outputs": [],
      "source": [
        "# df['bath'] = df['bath'].fillna(df['bath'].median)"
      ]
    },
    {
      "cell_type": "code",
      "execution_count": 161,
      "metadata": {
        "id": "305ee49f"
      },
      "outputs": [],
      "source": [
        "def extract_bhk(x):\n",
        "    try:\n",
        "        return int(str(x).split(' ')[0])   # works for '2 BHK', '3 Bedroom', '1 RK'\n",
        "    except:\n",
        "        return None\n",
        "\n",
        "# Extract BHK\n",
        "df['bhk'] = df['size'].apply(extract_bhk)\n",
        "df['bhk'] = df['bhk'].fillna(df['bhk'].median())\n",
        "\n"
      ]
    },
    {
      "cell_type": "code",
      "execution_count": 162,
      "metadata": {
        "colab": {
          "base_uri": "https://localhost:8080/"
        },
        "id": "5aa2a127",
        "outputId": "fe84c12f-dfae-4f38-c9a9-9cb454a40b68"
      },
      "outputs": [
        {
          "name": "stdout",
          "output_type": "stream",
          "text": [
            "bhk\n",
            "1.0      656\n",
            "2.0     5528\n",
            "3.0     4873\n",
            "4.0     1417\n",
            "5.0      356\n",
            "6.0      221\n",
            "7.0      100\n",
            "8.0       89\n",
            "9.0       54\n",
            "10.0      26\n",
            "Name: count, dtype: int64\n"
          ]
        }
      ],
      "source": [
        "# Cap bhk at 10\n",
        "df['bhk'] = df['bhk'].apply(lambda x: 10 if x > 10 else x)\n",
        "\n",
        "print(df['bhk'].value_counts().sort_index())\n"
      ]
    },
    {
      "cell_type": "code",
      "execution_count": 163,
      "metadata": {
        "id": "9481e170"
      },
      "outputs": [],
      "source": [
        "df = df.drop(columns='size')\n"
      ]
    },
    {
      "cell_type": "code",
      "execution_count": 164,
      "metadata": {
        "id": "6ec7d45a"
      },
      "outputs": [],
      "source": [
        "# 1. Fill missing bathrooms using bhk (if bath is NaN → set equal to bhk)\n",
        "df['bath'] = df['bath'].fillna(df['bhk'])\n",
        "\n",
        "# Convert bath column to numeric (if not already)\n",
        "df['bath'] = pd.to_numeric(df['bath'], errors='coerce')\n",
        "\n",
        "# 2. Cap unrealistic bathrooms (if bath > bhk+2 → set = bhk+2)\n",
        "df.loc[df['bath'] > df['bhk'] + 2, 'bath'] = df['bhk'] + 1\n",
        "\n",
        "# 3. If bath is still missing (rare edge cases), fill with median\n",
        "df['bath'] = df['bath'].fillna(df['bath'].median())\n",
        "\n",
        "\n"
      ]
    },
    {
      "cell_type": "code",
      "execution_count": 165,
      "metadata": {
        "colab": {
          "base_uri": "https://localhost:8080/",
          "height": 397
        },
        "id": "06259d4b",
        "outputId": "96692c5f-4917-4287-df97-1ec40ec05200"
      },
      "outputs": [
        {
          "data": {
            "text/plain": [
              "area_type          0\n",
              "availability       0\n",
              "location           0\n",
              "total_sqft         0\n",
              "bath               0\n",
              "price              0\n",
              "Lat             1371\n",
              "Lon             1371\n",
              "Nearby_Metro       0\n",
              "bhk                0\n",
              "dtype: int64"
            ]
          },
          "execution_count": 165,
          "metadata": {},
          "output_type": "execute_result"
        }
      ],
      "source": [
        "df.isnull().sum()"
      ]
    },
    {
      "cell_type": "code",
      "execution_count": 166,
      "metadata": {
        "colab": {
          "base_uri": "https://localhost:8080/"
        },
        "id": "d8464b72",
        "outputId": "53a259f7-318a-442e-e35e-70bca2047492"
      },
      "outputs": [
        {
          "data": {
            "text/plain": [
              "array(['1056', '2600', '1440', ..., '1133 - 1384', '774', '4689'],\n",
              "      shape=(2117,), dtype=object)"
            ]
          },
          "execution_count": 166,
          "metadata": {},
          "output_type": "execute_result"
        }
      ],
      "source": [
        "df['total_sqft'].unique()"
      ]
    },
    {
      "cell_type": "code",
      "execution_count": 167,
      "metadata": {
        "id": "63ef868c"
      },
      "outputs": [],
      "source": [
        "def is_float(x):\n",
        "    try:\n",
        "        float(x)\n",
        "    except:\n",
        "        return False\n",
        "    return True"
      ]
    },
    {
      "cell_type": "code",
      "execution_count": 168,
      "metadata": {
        "colab": {
          "base_uri": "https://localhost:8080/",
          "height": 458
        },
        "id": "558ddea7",
        "outputId": "84b02647-7673-482c-f7c9-c03479908466"
      },
      "outputs": [
        {
          "data": {
            "text/plain": [
              "0        True\n",
              "1        True\n",
              "2        True\n",
              "3        True\n",
              "4        True\n",
              "         ... \n",
              "13315    True\n",
              "13316    True\n",
              "13317    True\n",
              "13318    True\n",
              "13319    True\n",
              "Name: total_sqft, Length: 13320, dtype: bool"
            ]
          },
          "execution_count": 168,
          "metadata": {},
          "output_type": "execute_result"
        }
      ],
      "source": [
        "df['total_sqft'].apply(is_float)"
      ]
    },
    {
      "cell_type": "code",
      "execution_count": 169,
      "metadata": {
        "id": "b1ef712d"
      },
      "outputs": [],
      "source": [
        "def convert_sqft_to_num(x):\n",
        "    tokens = x.split('-')\n",
        "    if len(tokens)==2:\n",
        "        return (float(tokens[0])+float(tokens[1]))/2\n",
        "    try:\n",
        "        return float(x)\n",
        "    except:\n",
        "        return None"
      ]
    },
    {
      "cell_type": "code",
      "execution_count": 170,
      "metadata": {
        "colab": {
          "base_uri": "https://localhost:8080/"
        },
        "id": "5c536594",
        "outputId": "7ee0e154-585e-44df-ac6e-c69b366937e7"
      },
      "outputs": [
        {
          "data": {
            "text/plain": [
              "20.0"
            ]
          },
          "execution_count": 170,
          "metadata": {},
          "output_type": "execute_result"
        }
      ],
      "source": [
        "convert_sqft_to_num('20-20')"
      ]
    },
    {
      "cell_type": "code",
      "execution_count": 171,
      "metadata": {
        "colab": {
          "base_uri": "https://localhost:8080/",
          "height": 458
        },
        "id": "21605eaa",
        "outputId": "5676b92c-bb69-4125-ab89-36e19b714145"
      },
      "outputs": [
        {
          "data": {
            "text/plain": [
              "0        1056.0\n",
              "1        2600.0\n",
              "2        1440.0\n",
              "3        1521.0\n",
              "4        1200.0\n",
              "          ...  \n",
              "13315    3453.0\n",
              "13316    3600.0\n",
              "13317    1141.0\n",
              "13318    4689.0\n",
              "13319     550.0\n",
              "Name: total_sqft, Length: 13320, dtype: float64"
            ]
          },
          "execution_count": 171,
          "metadata": {},
          "output_type": "execute_result"
        }
      ],
      "source": [
        "df['total_sqft'] = df['total_sqft'].apply(lambda x: convert_sqft_to_num(str(x)) if not isinstance(x, bool) else None)\n",
        "df['total_sqft']"
      ]
    },
    {
      "cell_type": "code",
      "execution_count": 172,
      "metadata": {
        "id": "0733ecf3"
      },
      "outputs": [],
      "source": [
        "df['total_sqft']= df['total_sqft'].fillna(df['total_sqft'].median())"
      ]
    },
    {
      "cell_type": "code",
      "execution_count": 173,
      "metadata": {
        "colab": {
          "base_uri": "https://localhost:8080/",
          "height": 397
        },
        "id": "b768ab64",
        "outputId": "232cef22-bcb4-449c-f41a-ad8dc68cabf6"
      },
      "outputs": [
        {
          "data": {
            "text/plain": [
              "area_type       Super built-up  Area\n",
              "availability                  19-Dec\n",
              "location                   Yelahanka\n",
              "total_sqft                    2475.0\n",
              "bath                             4.0\n",
              "price                          186.0\n",
              "Lat                        13.100698\n",
              "Lon                        77.596345\n",
              "Nearby_Metro                      No\n",
              "bhk                              4.0\n",
              "Name: 30, dtype: object"
            ]
          },
          "execution_count": 173,
          "metadata": {},
          "output_type": "execute_result"
        }
      ],
      "source": [
        "df.loc[30]"
      ]
    },
    {
      "cell_type": "code",
      "execution_count": 174,
      "metadata": {
        "id": "8bf0e7b2"
      },
      "outputs": [],
      "source": [
        "# Dataset year (since created ~6 years ago)\n",
        "REF_YEAR = 2019\n",
        "\n",
        "# Function to extract built year\n",
        "def get_built_year(avail):\n",
        "    avail = str(avail).lower()   # make it string + lowercase\n",
        "\n",
        "    # Case 1: Availability is a year (e.g., \"2017\", \"2020\")\n",
        "    if avail.isdigit():\n",
        "        year = int(avail)\n",
        "        return year if year <= REF_YEAR else REF_YEAR\n",
        "\n",
        "    # Case 2: Availability is in \"YY-Mon\" format (e.g., \"18-Jan\")\n",
        "    if \"-\" in avail:\n",
        "        year_prefix = int(avail.split(\"-\")[0])   # \"18\" from \"18-Jan\"\n",
        "        year = 2000 + year_prefix                # 18 -> 2018\n",
        "        return year if year <= REF_YEAR else REF_YEAR\n",
        "\n",
        "    # Case 3: Ready/Immediate/Available\n",
        "    if \"ready\" in avail or \"immediate\" in avail or \"available\" in avail:\n",
        "        return REF_YEAR - 3   # assume 3 years old\n",
        "\n",
        "    # Default case (if nothing matches)\n",
        "    return REF_YEAR\n",
        "\n",
        "# Apply function to create built_year column\n",
        "df[\"built_year\"] = df[\"availability\"].apply(get_built_year)\n",
        "\n",
        "# Calculate property age\n",
        "df[\"property_age\"] = REF_YEAR - df[\"built_year\"]\n",
        "\n",
        "# Categorize into buckets\n",
        "df[\"age_segment\"] = pd.cut(\n",
        "    df[\"property_age\"],\n",
        "    bins=[-1, 2, 5, 10, 100],\n",
        "    labels=[\"New\", \"Mid\", \"Old\", \"Very Old\"]\n",
        ")\n",
        "\n",
        "\n"
      ]
    },
    {
      "cell_type": "code",
      "execution_count": 175,
      "metadata": {
        "colab": {
          "base_uri": "https://localhost:8080/"
        },
        "id": "07352600",
        "outputId": "b41edac8-ae1a-45d0-a8f5-e9b1e5d9ff44"
      },
      "outputs": [
        {
          "data": {
            "text/plain": [
              "(13320, 13)"
            ]
          },
          "execution_count": 175,
          "metadata": {},
          "output_type": "execute_result"
        }
      ],
      "source": [
        "df.shape"
      ]
    },
    {
      "cell_type": "code",
      "execution_count": 176,
      "metadata": {
        "colab": {
          "base_uri": "https://localhost:8080/",
          "height": 300
        },
        "id": "73775ebb",
        "outputId": "0914f07d-cc53-41a6-c6cc-7cbb2aca1320"
      },
      "outputs": [
        {
          "data": {
            "text/html": [
              "<div>\n",
              "<style scoped>\n",
              "    .dataframe tbody tr th:only-of-type {\n",
              "        vertical-align: middle;\n",
              "    }\n",
              "\n",
              "    .dataframe tbody tr th {\n",
              "        vertical-align: top;\n",
              "    }\n",
              "\n",
              "    .dataframe thead th {\n",
              "        text-align: right;\n",
              "    }\n",
              "</style>\n",
              "<table border=\"1\" class=\"dataframe\">\n",
              "  <thead>\n",
              "    <tr style=\"text-align: right;\">\n",
              "      <th></th>\n",
              "      <th>total_sqft</th>\n",
              "      <th>bath</th>\n",
              "      <th>price</th>\n",
              "      <th>Lat</th>\n",
              "      <th>Lon</th>\n",
              "      <th>bhk</th>\n",
              "      <th>built_year</th>\n",
              "      <th>property_age</th>\n",
              "      <th>price_per_sqft</th>\n",
              "    </tr>\n",
              "  </thead>\n",
              "  <tbody>\n",
              "    <tr>\n",
              "      <th>count</th>\n",
              "      <td>13320.000000</td>\n",
              "      <td>13320.000000</td>\n",
              "      <td>13320.000000</td>\n",
              "      <td>11949.000000</td>\n",
              "      <td>11949.000000</td>\n",
              "      <td>13320.000000</td>\n",
              "      <td>13320.000000</td>\n",
              "      <td>13320.000000</td>\n",
              "      <td>1.332000e+04</td>\n",
              "    </tr>\n",
              "    <tr>\n",
              "      <th>mean</th>\n",
              "      <td>1558.647202</td>\n",
              "      <td>2.687162</td>\n",
              "      <td>112.565627</td>\n",
              "      <td>12.962486</td>\n",
              "      <td>77.630923</td>\n",
              "      <td>2.797523</td>\n",
              "      <td>2016.462012</td>\n",
              "      <td>2.537988</td>\n",
              "      <td>7.919404e+03</td>\n",
              "    </tr>\n",
              "    <tr>\n",
              "      <th>std</th>\n",
              "      <td>1236.376834</td>\n",
              "      <td>1.257798</td>\n",
              "      <td>148.971674</td>\n",
              "      <td>0.138958</td>\n",
              "      <td>0.158083</td>\n",
              "      <td>1.209335</td>\n",
              "      <td>0.951200</td>\n",
              "      <td>0.951200</td>\n",
              "      <td>1.062471e+05</td>\n",
              "    </tr>\n",
              "    <tr>\n",
              "      <th>min</th>\n",
              "      <td>1.000000</td>\n",
              "      <td>1.000000</td>\n",
              "      <td>8.000000</td>\n",
              "      <td>12.695014</td>\n",
              "      <td>76.108564</td>\n",
              "      <td>1.000000</td>\n",
              "      <td>2014.000000</td>\n",
              "      <td>0.000000</td>\n",
              "      <td>2.678298e+02</td>\n",
              "    </tr>\n",
              "    <tr>\n",
              "      <th>25%</th>\n",
              "      <td>1100.000000</td>\n",
              "      <td>2.000000</td>\n",
              "      <td>50.000000</td>\n",
              "      <td>12.908945</td>\n",
              "      <td>77.580061</td>\n",
              "      <td>2.000000</td>\n",
              "      <td>2016.000000</td>\n",
              "      <td>3.000000</td>\n",
              "      <td>4.266667e+03</td>\n",
              "    </tr>\n",
              "    <tr>\n",
              "      <th>50%</th>\n",
              "      <td>1276.000000</td>\n",
              "      <td>2.000000</td>\n",
              "      <td>72.000000</td>\n",
              "      <td>12.955257</td>\n",
              "      <td>77.630364</td>\n",
              "      <td>3.000000</td>\n",
              "      <td>2016.000000</td>\n",
              "      <td>3.000000</td>\n",
              "      <td>5.440000e+03</td>\n",
              "    </tr>\n",
              "    <tr>\n",
              "      <th>75%</th>\n",
              "      <td>1678.000000</td>\n",
              "      <td>3.000000</td>\n",
              "      <td>120.000000</td>\n",
              "      <td>13.011019</td>\n",
              "      <td>77.670188</td>\n",
              "      <td>3.000000</td>\n",
              "      <td>2016.000000</td>\n",
              "      <td>3.000000</td>\n",
              "      <td>7.328359e+03</td>\n",
              "    </tr>\n",
              "    <tr>\n",
              "      <th>max</th>\n",
              "      <td>52272.000000</td>\n",
              "      <td>12.000000</td>\n",
              "      <td>3600.000000</td>\n",
              "      <td>17.734263</td>\n",
              "      <td>83.278304</td>\n",
              "      <td>10.000000</td>\n",
              "      <td>2019.000000</td>\n",
              "      <td>5.000000</td>\n",
              "      <td>1.200000e+07</td>\n",
              "    </tr>\n",
              "  </tbody>\n",
              "</table>\n",
              "</div>"
            ],
            "text/plain": [
              "         total_sqft          bath         price           Lat           Lon  \\\n",
              "count  13320.000000  13320.000000  13320.000000  11949.000000  11949.000000   \n",
              "mean    1558.647202      2.687162    112.565627     12.962486     77.630923   \n",
              "std     1236.376834      1.257798    148.971674      0.138958      0.158083   \n",
              "min        1.000000      1.000000      8.000000     12.695014     76.108564   \n",
              "25%     1100.000000      2.000000     50.000000     12.908945     77.580061   \n",
              "50%     1276.000000      2.000000     72.000000     12.955257     77.630364   \n",
              "75%     1678.000000      3.000000    120.000000     13.011019     77.670188   \n",
              "max    52272.000000     12.000000   3600.000000     17.734263     83.278304   \n",
              "\n",
              "                bhk    built_year  property_age  price_per_sqft  \n",
              "count  13320.000000  13320.000000  13320.000000    1.332000e+04  \n",
              "mean       2.797523   2016.462012      2.537988    7.919404e+03  \n",
              "std        1.209335      0.951200      0.951200    1.062471e+05  \n",
              "min        1.000000   2014.000000      0.000000    2.678298e+02  \n",
              "25%        2.000000   2016.000000      3.000000    4.266667e+03  \n",
              "50%        3.000000   2016.000000      3.000000    5.440000e+03  \n",
              "75%        3.000000   2016.000000      3.000000    7.328359e+03  \n",
              "max       10.000000   2019.000000      5.000000    1.200000e+07  "
            ]
          },
          "execution_count": 176,
          "metadata": {},
          "output_type": "execute_result"
        }
      ],
      "source": [
        "df['price_per_sqft'] = df['price']*100000/df['total_sqft']\n",
        "df.describe()"
      ]
    },
    {
      "cell_type": "markdown",
      "metadata": {
        "id": "73f088d6"
      },
      "source": [
        "Here we find that min price per sqft is 267 rs/sqft whereas max is 12000000, this shows a wide variation in property prices. We should remove outliers per location using mean and one standard deviation"
      ]
    },
    {
      "cell_type": "code",
      "execution_count": 177,
      "metadata": {
        "colab": {
          "base_uri": "https://localhost:8080/"
        },
        "id": "bc3d86f5",
        "outputId": "0b3b9222-5091-471b-8ed6-e9745d08763f"
      },
      "outputs": [
        {
          "data": {
            "text/plain": [
              "(10165, 14)"
            ]
          },
          "execution_count": 177,
          "metadata": {},
          "output_type": "execute_result"
        }
      ],
      "source": [
        "def remove_pps_outliers(df):\n",
        "    df_out = pd.DataFrame()\n",
        "    for key, subdf in df.groupby('location'):\n",
        "        m = np.mean(subdf.price_per_sqft)\n",
        "        st = np.std(subdf.price_per_sqft)\n",
        "        reduced_df = subdf[(subdf.price_per_sqft>(m-st)) & (subdf.price_per_sqft<=(m+st))]\n",
        "        df_out = pd.concat([df_out,reduced_df],ignore_index=True)\n",
        "    return df_out\n",
        "df = remove_pps_outliers(df)\n",
        "df.shape"
      ]
    },
    {
      "cell_type": "code",
      "execution_count": 178,
      "metadata": {
        "colab": {
          "base_uri": "https://localhost:8080/"
        },
        "id": "80956e7f",
        "outputId": "d758dbd3-95aa-440f-c3b1-b98170e00909"
      },
      "outputs": [
        {
          "name": "stdout",
          "output_type": "stream",
          "text": [
            "(6745, 14)\n"
          ]
        }
      ],
      "source": [
        "# Function to remove outliers based on standard deviation\n",
        "def remove_pps_outliers(df):\n",
        "    df_out = pd.DataFrame()\n",
        "    for key, subdf in df.groupby('location'):\n",
        "        m = np.mean(subdf.price_per_sqft)\n",
        "        st = np.std(subdf.price_per_sqft)\n",
        "        # Keep only the data points within one standard deviation\n",
        "        reduced_df = subdf[(subdf.price_per_sqft > (m-st)) & (subdf.price_per_sqft <= (m+st))]\n",
        "        df_out = pd.concat([df_out, reduced_df], ignore_index=True)\n",
        "    return df_out\n",
        "\n",
        "# Apply the function to your DataFrame\n",
        "df = remove_pps_outliers(df)\n",
        "print(df.shape)"
      ]
    },
    {
      "cell_type": "code",
      "execution_count": 179,
      "metadata": {
        "colab": {
          "base_uri": "https://localhost:8080/",
          "height": 872
        },
        "id": "f107183d",
        "outputId": "30e72bdd-f99a-42b3-a8e0-cc33aef7779a"
      },
      "outputs": [
        {
          "data": {
            "image/png": "[encoded data removed]",
            "text/plain": [
              "<Figure size 1500x1000 with 1 Axes>"
            ]
          },
          "metadata": {},
          "output_type": "display_data"
        }
      ],
      "source": [
        "def plot_scatter_chart(df, location):\n",
        "    bhk2 = df[(df.location == location) & (df.bhk == 2)]\n",
        "    bhk3 = df[(df.location == location) & (df.bhk == 3)]\n",
        "    plt.rcParams['figure.figsize'] = (15, 10)\n",
        "    plt.scatter(bhk2.total_sqft, bhk2.price_per_sqft, color='blue', label='2 BHK', s=50)\n",
        "    plt.scatter(bhk3.total_sqft, bhk3.price_per_sqft, marker='+', color='green', label='3 BHK', s=50)\n",
        "    plt.xlabel(\"Total Square Feet Area\")\n",
        "    plt.ylabel(\"Price Per Square Feet\")\n",
        "    plt.title(location)\n",
        "    plt.legend()\n",
        "\n",
        "plot_scatter_chart(df, \"Hebbal\")"
      ]
    },
    {
      "cell_type": "code",
      "execution_count": 180,
      "metadata": {
        "colab": {
          "base_uri": "https://localhost:8080/"
        },
        "id": "6cf8d43e",
        "outputId": "114d5ac9-3efe-41ba-ac3f-a1455c741ee4"
      },
      "outputs": [
        {
          "data": {
            "text/plain": [
              "(5370, 14)"
            ]
          },
          "execution_count": 180,
          "metadata": {},
          "output_type": "execute_result"
        }
      ],
      "source": [
        "def remove_bhk_outliers(df):\n",
        "    exclude_indices = np.array([])\n",
        "    for location, location_df in df.groupby('location'):\n",
        "        bhk_stats = {}\n",
        "        for bhk, bhk_df in location_df.groupby('bhk'):\n",
        "            bhk_stats[bhk] = {\n",
        "                'mean': np.mean(bhk_df.price_per_sqft),\n",
        "                'std': np.std(bhk_df.price_per_sqft),\n",
        "                'count': bhk_df.shape[0]\n",
        "            }\n",
        "        for bhk, bhk_df in location_df.groupby('bhk'):\n",
        "            stats = bhk_stats.get(bhk-1)\n",
        "            if stats and stats['count']>5:\n",
        "                exclude_indices = np.append(exclude_indices, bhk_df[bhk_df.price_per_sqft<(stats['mean'])].index.values)\n",
        "    return df.drop(exclude_indices,axis='index')\n",
        "\n",
        "df = remove_bhk_outliers(df)\n",
        "df.shape"
      ]
    },
    {
      "cell_type": "code",
      "execution_count": 181,
      "metadata": {
        "colab": {
          "base_uri": "https://localhost:8080/",
          "height": 872
        },
        "id": "36e47598",
        "outputId": "6d13db05-ab3b-455b-c1cb-687fbb440ea8"
      },
      "outputs": [
        {
          "data": {
            "image/png": "[encoded data removed]",
            "text/plain": [
              "<Figure size 1500x1000 with 1 Axes>"
            ]
          },
          "metadata": {},
          "output_type": "display_data"
        }
      ],
      "source": [
        "plot_scatter_chart(df, \"Hebbal\")"
      ]
    },
    {
      "cell_type": "code",
      "execution_count": 182,
      "metadata": {
        "colab": {
          "base_uri": "https://localhost:8080/"
        },
        "id": "3b16c60e",
        "outputId": "90aad469-3810-4287-d097-6b09cdb17a77"
      },
      "outputs": [
        {
          "name": "stdout",
          "output_type": "stream",
          "text": [
            "<class 'pandas.core.frame.DataFrame'>\n",
            "Index: 5370 entries, 0 to 6744\n",
            "Data columns (total 14 columns):\n",
            " #   Column          Non-Null Count  Dtype   \n",
            "---  ------          --------------  -----   \n",
            " 0   area_type       5370 non-null   object  \n",
            " 1   availability    5370 non-null   object  \n",
            " 2   location        5370 non-null   object  \n",
            " 3   total_sqft      5370 non-null   float64 \n",
            " 4   bath            5370 non-null   float64 \n",
            " 5   price           5370 non-null   float64 \n",
            " 6   Lat             4929 non-null   float64 \n",
            " 7   Lon             4929 non-null   float64 \n",
            " 8   Nearby_Metro    5370 non-null   object  \n",
            " 9   bhk             5370 non-null   float64 \n",
            " 10  built_year      5370 non-null   int64   \n",
            " 11  property_age    5370 non-null   int64   \n",
            " 12  age_segment     5370 non-null   category\n",
            " 13  price_per_sqft  5370 non-null   float64 \n",
            "dtypes: category(1), float64(7), int64(2), object(4)\n",
            "memory usage: 592.8+ KB\n"
          ]
        }
      ],
      "source": [
        "df.info()"
      ]
    },
    {
      "cell_type": "code",
      "execution_count": 183,
      "metadata": {
        "id": "186a8845"
      },
      "outputs": [],
      "source": [
        "df = df.drop(columns=['price_per_sqft'])"
      ]
    },
    {
      "cell_type": "code",
      "execution_count": 184,
      "metadata": {
        "colab": {
          "base_uri": "https://localhost:8080/",
          "height": 363
        },
        "id": "9107d112",
        "outputId": "45519c8f-b1f2-487b-f3ff-bb1c8140e503"
      },
      "outputs": [
        {
          "data": {
            "text/html": [
              "<div>\n",
              "<style scoped>\n",
              "    .dataframe tbody tr th:only-of-type {\n",
              "        vertical-align: middle;\n",
              "    }\n",
              "\n",
              "    .dataframe tbody tr th {\n",
              "        vertical-align: top;\n",
              "    }\n",
              "\n",
              "    .dataframe thead th {\n",
              "        text-align: right;\n",
              "    }\n",
              "</style>\n",
              "<table border=\"1\" class=\"dataframe\">\n",
              "  <thead>\n",
              "    <tr style=\"text-align: right;\">\n",
              "      <th></th>\n",
              "      <th>area_type</th>\n",
              "      <th>availability</th>\n",
              "      <th>location</th>\n",
              "      <th>total_sqft</th>\n",
              "      <th>bath</th>\n",
              "      <th>price</th>\n",
              "      <th>Lat</th>\n",
              "      <th>Lon</th>\n",
              "      <th>Nearby_Metro</th>\n",
              "      <th>bhk</th>\n",
              "      <th>built_year</th>\n",
              "      <th>property_age</th>\n",
              "      <th>age_segment</th>\n",
              "    </tr>\n",
              "  </thead>\n",
              "  <tbody>\n",
              "    <tr>\n",
              "      <th>0</th>\n",
              "      <td>Built-up  Area</td>\n",
              "      <td>Ready To Move</td>\n",
              "      <td>Devarabeesana Halli</td>\n",
              "      <td>1750.0</td>\n",
              "      <td>3.0</td>\n",
              "      <td>149.0</td>\n",
              "      <td>NaN</td>\n",
              "      <td>NaN</td>\n",
              "      <td>No</td>\n",
              "      <td>3.0</td>\n",
              "      <td>2016</td>\n",
              "      <td>3</td>\n",
              "      <td>Mid</td>\n",
              "    </tr>\n",
              "    <tr>\n",
              "      <th>1</th>\n",
              "      <td>Super built-up  Area</td>\n",
              "      <td>Ready To Move</td>\n",
              "      <td>Devarabeesana Halli</td>\n",
              "      <td>1750.0</td>\n",
              "      <td>3.0</td>\n",
              "      <td>150.0</td>\n",
              "      <td>NaN</td>\n",
              "      <td>NaN</td>\n",
              "      <td>No</td>\n",
              "      <td>3.0</td>\n",
              "      <td>2016</td>\n",
              "      <td>3</td>\n",
              "      <td>Mid</td>\n",
              "    </tr>\n",
              "    <tr>\n",
              "      <th>2</th>\n",
              "      <td>Super built-up  Area</td>\n",
              "      <td>18-May</td>\n",
              "      <td>Devarachikkanahalli</td>\n",
              "      <td>1250.0</td>\n",
              "      <td>2.0</td>\n",
              "      <td>44.0</td>\n",
              "      <td>12.902018</td>\n",
              "      <td>77.601587</td>\n",
              "      <td>Yes</td>\n",
              "      <td>3.0</td>\n",
              "      <td>2018</td>\n",
              "      <td>1</td>\n",
              "      <td>New</td>\n",
              "    </tr>\n",
              "    <tr>\n",
              "      <th>3</th>\n",
              "      <td>Super built-up  Area</td>\n",
              "      <td>Ready To Move</td>\n",
              "      <td>Devarachikkanahalli</td>\n",
              "      <td>1170.0</td>\n",
              "      <td>2.0</td>\n",
              "      <td>40.0</td>\n",
              "      <td>12.902018</td>\n",
              "      <td>77.601587</td>\n",
              "      <td>Yes</td>\n",
              "      <td>2.0</td>\n",
              "      <td>2016</td>\n",
              "      <td>3</td>\n",
              "      <td>Mid</td>\n",
              "    </tr>\n",
              "    <tr>\n",
              "      <th>4</th>\n",
              "      <td>Super built-up  Area</td>\n",
              "      <td>Ready To Move</td>\n",
              "      <td>Devarachikkanahalli</td>\n",
              "      <td>1425.0</td>\n",
              "      <td>2.0</td>\n",
              "      <td>65.0</td>\n",
              "      <td>12.902018</td>\n",
              "      <td>77.601587</td>\n",
              "      <td>Yes</td>\n",
              "      <td>3.0</td>\n",
              "      <td>2016</td>\n",
              "      <td>3</td>\n",
              "      <td>Mid</td>\n",
              "    </tr>\n",
              "    <tr>\n",
              "      <th>5</th>\n",
              "      <td>Super built-up  Area</td>\n",
              "      <td>Ready To Move</td>\n",
              "      <td>Devarachikkanahalli</td>\n",
              "      <td>947.0</td>\n",
              "      <td>2.0</td>\n",
              "      <td>43.0</td>\n",
              "      <td>12.902018</td>\n",
              "      <td>77.601587</td>\n",
              "      <td>Yes</td>\n",
              "      <td>2.0</td>\n",
              "      <td>2016</td>\n",
              "      <td>3</td>\n",
              "      <td>Mid</td>\n",
              "    </tr>\n",
              "    <tr>\n",
              "      <th>6</th>\n",
              "      <td>Super built-up  Area</td>\n",
              "      <td>Ready To Move</td>\n",
              "      <td>Devarachikkanahalli</td>\n",
              "      <td>1230.0</td>\n",
              "      <td>2.0</td>\n",
              "      <td>58.0</td>\n",
              "      <td>12.902018</td>\n",
              "      <td>77.601587</td>\n",
              "      <td>Yes</td>\n",
              "      <td>2.0</td>\n",
              "      <td>2016</td>\n",
              "      <td>3</td>\n",
              "      <td>Mid</td>\n",
              "    </tr>\n",
              "    <tr>\n",
              "      <th>7</th>\n",
              "      <td>Super built-up  Area</td>\n",
              "      <td>Ready To Move</td>\n",
              "      <td>Devarachikkanahalli</td>\n",
              "      <td>1705.0</td>\n",
              "      <td>3.0</td>\n",
              "      <td>75.0</td>\n",
              "      <td>12.902018</td>\n",
              "      <td>77.601587</td>\n",
              "      <td>Yes</td>\n",
              "      <td>3.0</td>\n",
              "      <td>2016</td>\n",
              "      <td>3</td>\n",
              "      <td>Mid</td>\n",
              "    </tr>\n",
              "    <tr>\n",
              "      <th>8</th>\n",
              "      <td>Built-up  Area</td>\n",
              "      <td>Ready To Move</td>\n",
              "      <td>Devarachikkanahalli</td>\n",
              "      <td>1116.0</td>\n",
              "      <td>2.0</td>\n",
              "      <td>47.0</td>\n",
              "      <td>12.902018</td>\n",
              "      <td>77.601587</td>\n",
              "      <td>Yes</td>\n",
              "      <td>2.0</td>\n",
              "      <td>2016</td>\n",
              "      <td>3</td>\n",
              "      <td>Mid</td>\n",
              "    </tr>\n",
              "    <tr>\n",
              "      <th>9</th>\n",
              "      <td>Super built-up  Area</td>\n",
              "      <td>Ready To Move</td>\n",
              "      <td>Devarachikkanahalli</td>\n",
              "      <td>991.0</td>\n",
              "      <td>2.0</td>\n",
              "      <td>40.0</td>\n",
              "      <td>12.902018</td>\n",
              "      <td>77.601587</td>\n",
              "      <td>Yes</td>\n",
              "      <td>2.0</td>\n",
              "      <td>2016</td>\n",
              "      <td>3</td>\n",
              "      <td>Mid</td>\n",
              "    </tr>\n",
              "  </tbody>\n",
              "</table>\n",
              "</div>"
            ],
            "text/plain": [
              "              area_type   availability              location  total_sqft  \\\n",
              "0        Built-up  Area  Ready To Move   Devarabeesana Halli      1750.0   \n",
              "1  Super built-up  Area  Ready To Move   Devarabeesana Halli      1750.0   \n",
              "2  Super built-up  Area         18-May   Devarachikkanahalli      1250.0   \n",
              "3  Super built-up  Area  Ready To Move   Devarachikkanahalli      1170.0   \n",
              "4  Super built-up  Area  Ready To Move   Devarachikkanahalli      1425.0   \n",
              "5  Super built-up  Area  Ready To Move   Devarachikkanahalli       947.0   \n",
              "6  Super built-up  Area  Ready To Move   Devarachikkanahalli      1230.0   \n",
              "7  Super built-up  Area  Ready To Move   Devarachikkanahalli      1705.0   \n",
              "8        Built-up  Area  Ready To Move   Devarachikkanahalli      1116.0   \n",
              "9  Super built-up  Area  Ready To Move   Devarachikkanahalli       991.0   \n",
              "\n",
              "   bath  price        Lat        Lon Nearby_Metro  bhk  built_year  \\\n",
              "0   3.0  149.0        NaN        NaN           No  3.0        2016   \n",
              "1   3.0  150.0        NaN        NaN           No  3.0        2016   \n",
              "2   2.0   44.0  12.902018  77.601587          Yes  3.0        2018   \n",
              "3   2.0   40.0  12.902018  77.601587          Yes  2.0        2016   \n",
              "4   2.0   65.0  12.902018  77.601587          Yes  3.0        2016   \n",
              "5   2.0   43.0  12.902018  77.601587          Yes  2.0        2016   \n",
              "6   2.0   58.0  12.902018  77.601587          Yes  2.0        2016   \n",
              "7   3.0   75.0  12.902018  77.601587          Yes  3.0        2016   \n",
              "8   2.0   47.0  12.902018  77.601587          Yes  2.0        2016   \n",
              "9   2.0   40.0  12.902018  77.601587          Yes  2.0        2016   \n",
              "\n",
              "   property_age age_segment  \n",
              "0             3         Mid  \n",
              "1             3         Mid  \n",
              "2             1         New  \n",
              "3             3         Mid  \n",
              "4             3         Mid  \n",
              "5             3         Mid  \n",
              "6             3         Mid  \n",
              "7             3         Mid  \n",
              "8             3         Mid  \n",
              "9             3         Mid  "
            ]
          },
          "execution_count": 184,
          "metadata": {},
          "output_type": "execute_result"
        }
      ],
      "source": [
        "df.head(10)"
      ]
    },
    {
      "cell_type": "code",
      "execution_count": 185,
      "metadata": {
        "id": "8f315d8b"
      },
      "outputs": [],
      "source": [
        "df = df.drop(columns=['Lat','Lon'],axis=1)"
      ]
    },
    {
      "cell_type": "code",
      "execution_count": 186,
      "metadata": {
        "colab": {
          "base_uri": "https://localhost:8080/"
        },
        "id": "cefcb4d3",
        "outputId": "bbdfaeec-5fbe-46d5-e061-b9423367f4cc"
      },
      "outputs": [
        {
          "name": "stdout",
          "output_type": "stream",
          "text": [
            "<class 'pandas.core.frame.DataFrame'>\n",
            "Index: 5370 entries, 0 to 6744\n",
            "Data columns (total 11 columns):\n",
            " #   Column        Non-Null Count  Dtype   \n",
            "---  ------        --------------  -----   \n",
            " 0   area_type     5370 non-null   object  \n",
            " 1   availability  5370 non-null   object  \n",
            " 2   location      5370 non-null   object  \n",
            " 3   total_sqft    5370 non-null   float64 \n",
            " 4   bath          5370 non-null   float64 \n",
            " 5   price         5370 non-null   float64 \n",
            " 6   Nearby_Metro  5370 non-null   object  \n",
            " 7   bhk           5370 non-null   float64 \n",
            " 8   built_year    5370 non-null   int64   \n",
            " 9   property_age  5370 non-null   int64   \n",
            " 10  age_segment   5370 non-null   category\n",
            "dtypes: category(1), float64(4), int64(2), object(4)\n",
            "memory usage: 466.9+ KB\n"
          ]
        }
      ],
      "source": [
        "df.info()"
      ]
    },
    {
      "cell_type": "code",
      "execution_count": 187,
      "metadata": {
        "id": "657f3929"
      },
      "outputs": [],
      "source": [
        "X = df.drop(columns=['price'])\n",
        "y = df['price']"
      ]
    },
    {
      "cell_type": "code",
      "execution_count": 188,
      "metadata": {
        "id": "10d105db"
      },
      "outputs": [],
      "source": [
        "Xtrain,Xtest,Ytrain,Ytest = train_test_split(X,y,train_size=0.8,random_state=42)"
      ]
    },
    {
      "cell_type": "code",
      "execution_count": 189,
      "metadata": {
        "colab": {
          "base_uri": "https://localhost:8080/"
        },
        "id": "be21363b",
        "outputId": "1e612cd1-f23a-415e-fc45-1d9fad79dfa2"
      },
      "outputs": [
        {
          "data": {
            "text/plain": [
              "['area_type', 'availability', 'location', 'Nearby_Metro', 'age_segment']"
            ]
          },
          "execution_count": 189,
          "metadata": {},
          "output_type": "execute_result"
        }
      ],
      "source": [
        "cat_col = X.select_dtypes(include=['object','category']).columns.tolist()\n",
        "num_col = X.select_dtypes(include='number').columns.tolist()\n",
        "cat_col"
      ]
    },
    {
      "cell_type": "code",
      "execution_count": 190,
      "metadata": {
        "id": "2af12d70"
      },
      "outputs": [],
      "source": [
        "std = StandardScaler()\n",
        "Xtrain_num = std.fit_transform(Xtrain[num_col])\n",
        "Xtest_num = std.transform(Xtest[num_col])"
      ]
    },
    {
      "cell_type": "code",
      "execution_count": 191,
      "metadata": {
        "id": "e4f48a69"
      },
      "outputs": [],
      "source": [
        "Xtrain_num = pd.DataFrame(\n",
        "    Xtrain_num,\n",
        "    index=Xtrain.index,\n",
        "    columns= Xtrain.select_dtypes('number').columns.tolist()\n",
        ")\n",
        "\n",
        "Xtest_num = pd.DataFrame(\n",
        "    Xtest_num,\n",
        "    index=Xtest.index,\n",
        "    columns=Xtest.select_dtypes('number').columns.tolist()\n",
        ")"
      ]
    },
    {
      "cell_type": "code",
      "execution_count": 192,
      "metadata": {
        "id": "d3ec72ca"
      },
      "outputs": [],
      "source": [
        "hot = OneHotEncoder(handle_unknown='ignore', sparse_output=False)\n",
        "Xtrain_cat = hot.fit_transform(Xtrain[cat_col])\n",
        "Xtest_cat = hot.transform(Xtest[cat_col])"
      ]
    },
    {
      "cell_type": "code",
      "execution_count": 193,
      "metadata": {
        "id": "0a9363e5"
      },
      "outputs": [],
      "source": [
        "Xtrain_cat = pd.DataFrame(\n",
        "    Xtrain_cat,\n",
        "    index=Xtrain.index,\n",
        "    columns=hot.get_feature_names_out(cat_col)\n",
        ")\n",
        "Xtest_cat = pd.DataFrame(\n",
        "    Xtest_cat,\n",
        "    index=Xtest.index,\n",
        "    columns=hot.get_feature_names_out(cat_col)\n",
        "\n",
        ")"
      ]
    },
    {
      "cell_type": "code",
      "execution_count": 194,
      "metadata": {
        "id": "060427ae"
      },
      "outputs": [],
      "source": [
        "Xtrain_final = pd.concat([Xtrain_num,Xtrain_cat],axis=1)\n",
        "Xtest_final = pd.concat([Xtest_num,Xtest_cat],axis=1)"
      ]
    },
    {
      "cell_type": "code",
      "execution_count": 195,
      "metadata": {
        "colab": {
          "base_uri": "https://localhost:8080/"
        },
        "id": "eee9b67f",
        "outputId": "43fbe578-d8bb-4b51-d3f2-a9a55300672d"
      },
      "outputs": [
        {
          "data": {
            "text/plain": [
              "(4296, 651)"
            ]
          },
          "execution_count": 195,
          "metadata": {},
          "output_type": "execute_result"
        }
      ],
      "source": [
        "Xtrain_final.shape"
      ]
    },
    {
      "cell_type": "code",
      "execution_count": 196,
      "metadata": {
        "colab": {
          "base_uri": "https://localhost:8080/"
        },
        "id": "1aac016a",
        "outputId": "773d59fc-8a3a-44ac-b2b0-89a0cc1b96af"
      },
      "outputs": [
        {
          "data": {
            "text/plain": [
              "(1074, 651)"
            ]
          },
          "execution_count": 196,
          "metadata": {},
          "output_type": "execute_result"
        }
      ],
      "source": [
        "Xtest_final.shape"
      ]
    },
    {
      "cell_type": "code",
      "execution_count": 197,
      "metadata": {
        "colab": {
          "base_uri": "https://localhost:8080/",
          "height": 80
        },
        "id": "e1e2f511",
        "outputId": "d14071c6-9233-4569-dc3f-78dac348809d"
      },
      "outputs": [
        {
          "data": {
            "text/html": [
              "<style>#sk-container-id-3 {\n",
              "  /* Definition of color scheme common for light and dark mode */\n",
              "  --sklearn-color-text: #000;\n",
              "  --sklearn-color-text-muted: #666;\n",
              "  --sklearn-color-line: gray;\n",
              "  /* Definition of color scheme for unfitted estimators */\n",
              "  --sklearn-color-unfitted-level-0: #fff5e6;\n",
              "  --sklearn-color-unfitted-level-1: #f6e4d2;\n",
              "  --sklearn-color-unfitted-level-2: #ffe0b3;\n",
              "  --sklearn-color-unfitted-level-3: chocolate;\n",
              "  /* Definition of color scheme for fitted estimators */\n",
              "  --sklearn-color-fitted-level-0: #f0f8ff;\n",
              "  --sklearn-color-fitted-level-1: #d4ebff;\n",
              "  --sklearn-color-fitted-level-2: #b3dbfd;\n",
              "  --sklearn-color-fitted-level-3: cornflowerblue;\n",
              "\n",
              "  /* Specific color for light theme */\n",
              "  --sklearn-color-text-on-default-background: var(--sg-text-color, var(--theme-code-foreground, var(--jp-content-font-color1, black)));\n",
              "  --sklearn-color-background: var(--sg-background-color, var(--theme-background, var(--jp-layout-color0, white)));\n",
              "  --sklearn-color-border-box: var(--sg-text-color, var(--theme-code-foreground, var(--jp-content-font-color1, black)));\n",
              "  --sklearn-color-icon: #696969;\n",
              "\n",
              "  @media (prefers-color-scheme: dark) {\n",
              "    /* Redefinition of color scheme for dark theme */\n",
              "    --sklearn-color-text-on-default-background: var(--sg-text-color, var(--theme-code-foreground, var(--jp-content-font-color1, white)));\n",
              "    --sklearn-color-background: var(--sg-background-color, var(--theme-background, var(--jp-layout-color0, #111)));\n",
              "    --sklearn-color-border-box: var(--sg-text-color, var(--theme-code-foreground, var(--jp-content-font-color1, white)));\n",
              "    --sklearn-color-icon: #878787;\n",
              "  }\n",
              "}\n",
              "\n",
              "#sk-container-id-3 {\n",
              "  color: var(--sklearn-color-text);\n",
              "}\n",
              "\n",
              "#sk-container-id-3 pre {\n",
              "  padding: 0;\n",
              "}\n",
              "\n",
              "#sk-container-id-3 input.sk-hidden--visually {\n",
              "  border: 0;\n",
              "  clip: rect(1px 1px 1px 1px);\n",
              "  clip: rect(1px, 1px, 1px, 1px);\n",
              "  height: 1px;\n",
              "  margin: -1px;\n",
              "  overflow: hidden;\n",
              "  padding: 0;\n",
              "  position: absolute;\n",
              "  width: 1px;\n",
              "}\n",
              "\n",
              "#sk-container-id-3 div.sk-dashed-wrapped {\n",
              "  border: 1px dashed var(--sklearn-color-line);\n",
              "  margin: 0 0.4em 0.5em 0.4em;\n",
              "  box-sizing: border-box;\n",
              "  padding-bottom: 0.4em;\n",
              "  background-color: var(--sklearn-color-background);\n",
              "}\n",
              "\n",
              "#sk-container-id-3 div.sk-container {\n",
              "  /* jupyter's `normalize.less` sets `[hidden] { display: none; }`\n",
              "     but bootstrap.min.css set `[hidden] { display: none !important; }`\n",
              "     so we also need the `!important` here to be able to override the\n",
              "     default hidden behavior on the sphinx rendered scikit-learn.org.\n",
              "     See: https://github.com/scikit-learn/scikit-learn/issues/21755 */\n",
              "  display: inline-block !important;\n",
              "  position: relative;\n",
              "}\n",
              "\n",
              "#sk-container-id-3 div.sk-text-repr-fallback {\n",
              "  display: none;\n",
              "}\n",
              "\n",
              "div.sk-parallel-item,\n",
              "div.sk-serial,\n",
              "div.sk-item {\n",
              "  /* draw centered vertical line to link estimators */\n",
              "  background-image: linear-gradient(var(--sklearn-color-text-on-default-background), var(--sklearn-color-text-on-default-background));\n",
              "  background-size: 2px 100%;\n",
              "  background-repeat: no-repeat;\n",
              "  background-position: center center;\n",
              "}\n",
              "\n",
              "/* Parallel-specific style estimator block */\n",
              "\n",
              "#sk-container-id-3 div.sk-parallel-item::after {\n",
              "  content: \"\";\n",
              "  width: 100%;\n",
              "  border-bottom: 2px solid var(--sklearn-color-text-on-default-background);\n",
              "  flex-grow: 1;\n",
              "}\n",
              "\n",
              "#sk-container-id-3 div.sk-parallel {\n",
              "  display: flex;\n",
              "  align-items: stretch;\n",
              "  justify-content: center;\n",
              "  background-color: var(--sklearn-color-background);\n",
              "  position: relative;\n",
              "}\n",
              "\n",
              "#sk-container-id-3 div.sk-parallel-item {\n",
              "  display: flex;\n",
              "  flex-direction: column;\n",
              "}\n",
              "\n",
              "#sk-container-id-3 div.sk-parallel-item:first-child::after {\n",
              "  align-self: flex-end;\n",
              "  width: 50%;\n",
              "}\n",
              "\n",
              "#sk-container-id-3 div.sk-parallel-item:last-child::after {\n",
              "  align-self: flex-start;\n",
              "  width: 50%;\n",
              "}\n",
              "\n",
              "#sk-container-id-3 div.sk-parallel-item:only-child::after {\n",
              "  width: 0;\n",
              "}\n",
              "\n",
              "/* Serial-specific style estimator block */\n",
              "\n",
              "#sk-container-id-3 div.sk-serial {\n",
              "  display: flex;\n",
              "  flex-direction: column;\n",
              "  align-items: center;\n",
              "  background-color: var(--sklearn-color-background);\n",
              "  padding-right: 1em;\n",
              "  padding-left: 1em;\n",
              "}\n",
              "\n",
              "\n",
              "/* Toggleable style: style used for estimator/Pipeline/ColumnTransformer box that is\n",
              "clickable and can be expanded/collapsed.\n",
              "- Pipeline and ColumnTransformer use this feature and define the default style\n",
              "- Estimators will overwrite some part of the style using the `sk-estimator` class\n",
              "*/\n",
              "\n",
              "/* Pipeline and ColumnTransformer style (default) */\n",
              "\n",
              "#sk-container-id-3 div.sk-toggleable {\n",
              "  /* Default theme specific background. It is overwritten whether we have a\n",
              "  specific estimator or a Pipeline/ColumnTransformer */\n",
              "  background-color: var(--sklearn-color-background);\n",
              "}\n",
              "\n",
              "/* Toggleable label */\n",
              "#sk-container-id-3 label.sk-toggleable__label {\n",
              "  cursor: pointer;\n",
              "  display: flex;\n",
              "  width: 100%;\n",
              "  margin-bottom: 0;\n",
              "  padding: 0.5em;\n",
              "  box-sizing: border-box;\n",
              "  text-align: center;\n",
              "  align-items: start;\n",
              "  justify-content: space-between;\n",
              "  gap: 0.5em;\n",
              "}\n",
              "\n",
              "#sk-container-id-3 label.sk-toggleable__label .caption {\n",
              "  font-size: 0.6rem;\n",
              "  font-weight: lighter;\n",
              "  color: var(--sklearn-color-text-muted);\n",
              "}\n",
              "\n",
              "#sk-container-id-3 label.sk-toggleable__label-arrow:before {\n",
              "  /* Arrow on the left of the label */\n",
              "  content: \"▸\";\n",
              "  float: left;\n",
              "  margin-right: 0.25em;\n",
              "  color: var(--sklearn-color-icon);\n",
              "}\n",
              "\n",
              "#sk-container-id-3 label.sk-toggleable__label-arrow:hover:before {\n",
              "  color: var(--sklearn-color-text);\n",
              "}\n",
              "\n",
              "/* Toggleable content - dropdown */\n",
              "\n",
              "#sk-container-id-3 div.sk-toggleable__content {\n",
              "  max-height: 0;\n",
              "  max-width: 0;\n",
              "  overflow: hidden;\n",
              "  text-align: left;\n",
              "  /* unfitted */\n",
              "  background-color: var(--sklearn-color-unfitted-level-0);\n",
              "}\n",
              "\n",
              "#sk-container-id-3 div.sk-toggleable__content.fitted {\n",
              "  /* fitted */\n",
              "  background-color: var(--sklearn-color-fitted-level-0);\n",
              "}\n",
              "\n",
              "#sk-container-id-3 div.sk-toggleable__content pre {\n",
              "  margin: 0.2em;\n",
              "  border-radius: 0.25em;\n",
              "  color: var(--sklearn-color-text);\n",
              "  /* unfitted */\n",
              "  background-color: var(--sklearn-color-unfitted-level-0);\n",
              "}\n",
              "\n",
              "#sk-container-id-3 div.sk-toggleable__content.fitted pre {\n",
              "  /* unfitted */\n",
              "  background-color: var(--sklearn-color-fitted-level-0);\n",
              "}\n",
              "\n",
              "#sk-container-id-3 input.sk-toggleable__control:checked~div.sk-toggleable__content {\n",
              "  /* Expand drop-down */\n",
              "  max-height: 200px;\n",
              "  max-width: 100%;\n",
              "  overflow: auto;\n",
              "}\n",
              "\n",
              "#sk-container-id-3 input.sk-toggleable__control:checked~label.sk-toggleable__label-arrow:before {\n",
              "  content: \"▾\";\n",
              "}\n",
              "\n",
              "/* Pipeline/ColumnTransformer-specific style */\n",
              "\n",
              "#sk-container-id-3 div.sk-label input.sk-toggleable__control:checked~label.sk-toggleable__label {\n",
              "  color: var(--sklearn-color-text);\n",
              "  background-color: var(--sklearn-color-unfitted-level-2);\n",
              "}\n",
              "\n",
              "#sk-container-id-3 div.sk-label.fitted input.sk-toggleable__control:checked~label.sk-toggleable__label {\n",
              "  background-color: var(--sklearn-color-fitted-level-2);\n",
              "}\n",
              "\n",
              "/* Estimator-specific style */\n",
              "\n",
              "/* Colorize estimator box */\n",
              "#sk-container-id-3 div.sk-estimator input.sk-toggleable__control:checked~label.sk-toggleable__label {\n",
              "  /* unfitted */\n",
              "  background-color: var(--sklearn-color-unfitted-level-2);\n",
              "}\n",
              "\n",
              "#sk-container-id-3 div.sk-estimator.fitted input.sk-toggleable__control:checked~label.sk-toggleable__label {\n",
              "  /* fitted */\n",
              "  background-color: var(--sklearn-color-fitted-level-2);\n",
              "}\n",
              "\n",
              "#sk-container-id-3 div.sk-label label.sk-toggleable__label,\n",
              "#sk-container-id-3 div.sk-label label {\n",
              "  /* The background is the default theme color */\n",
              "  color: var(--sklearn-color-text-on-default-background);\n",
              "}\n",
              "\n",
              "/* On hover, darken the color of the background */\n",
              "#sk-container-id-3 div.sk-label:hover label.sk-toggleable__label {\n",
              "  color: var(--sklearn-color-text);\n",
              "  background-color: var(--sklearn-color-unfitted-level-2);\n",
              "}\n",
              "\n",
              "/* Label box, darken color on hover, fitted */\n",
              "#sk-container-id-3 div.sk-label.fitted:hover label.sk-toggleable__label.fitted {\n",
              "  color: var(--sklearn-color-text);\n",
              "  background-color: var(--sklearn-color-fitted-level-2);\n",
              "}\n",
              "\n",
              "/* Estimator label */\n",
              "\n",
              "#sk-container-id-3 div.sk-label label {\n",
              "  font-family: monospace;\n",
              "  font-weight: bold;\n",
              "  display: inline-block;\n",
              "  line-height: 1.2em;\n",
              "}\n",
              "\n",
              "#sk-container-id-3 div.sk-label-container {\n",
              "  text-align: center;\n",
              "}\n",
              "\n",
              "/* Estimator-specific */\n",
              "#sk-container-id-3 div.sk-estimator {\n",
              "  font-family: monospace;\n",
              "  border: 1px dotted var(--sklearn-color-border-box);\n",
              "  border-radius: 0.25em;\n",
              "  box-sizing: border-box;\n",
              "  margin-bottom: 0.5em;\n",
              "  /* unfitted */\n",
              "  background-color: var(--sklearn-color-unfitted-level-0);\n",
              "}\n",
              "\n",
              "#sk-container-id-3 div.sk-estimator.fitted {\n",
              "  /* fitted */\n",
              "  background-color: var(--sklearn-color-fitted-level-0);\n",
              "}\n",
              "\n",
              "/* on hover */\n",
              "#sk-container-id-3 div.sk-estimator:hover {\n",
              "  /* unfitted */\n",
              "  background-color: var(--sklearn-color-unfitted-level-2);\n",
              "}\n",
              "\n",
              "#sk-container-id-3 div.sk-estimator.fitted:hover {\n",
              "  /* fitted */\n",
              "  background-color: var(--sklearn-color-fitted-level-2);\n",
              "}\n",
              "\n",
              "/* Specification for estimator info (e.g. \"i\" and \"?\") */\n",
              "\n",
              "/* Common style for \"i\" and \"?\" */\n",
              "\n",
              ".sk-estimator-doc-link,\n",
              "a:link.sk-estimator-doc-link,\n",
              "a:visited.sk-estimator-doc-link {\n",
              "  float: right;\n",
              "  font-size: smaller;\n",
              "  line-height: 1em;\n",
              "  font-family: monospace;\n",
              "  background-color: var(--sklearn-color-background);\n",
              "  border-radius: 1em;\n",
              "  height: 1em;\n",
              "  width: 1em;\n",
              "  text-decoration: none !important;\n",
              "  margin-left: 0.5em;\n",
              "  text-align: center;\n",
              "  /* unfitted */\n",
              "  border: var(--sklearn-color-unfitted-level-1) 1pt solid;\n",
              "  color: var(--sklearn-color-unfitted-level-1);\n",
              "}\n",
              "\n",
              ".sk-estimator-doc-link.fitted,\n",
              "a:link.sk-estimator-doc-link.fitted,\n",
              "a:visited.sk-estimator-doc-link.fitted {\n",
              "  /* fitted */\n",
              "  border: var(--sklearn-color-fitted-level-1) 1pt solid;\n",
              "  color: var(--sklearn-color-fitted-level-1);\n",
              "}\n",
              "\n",
              "/* On hover */\n",
              "div.sk-estimator:hover .sk-estimator-doc-link:hover,\n",
              ".sk-estimator-doc-link:hover,\n",
              "div.sk-label-container:hover .sk-estimator-doc-link:hover,\n",
              ".sk-estimator-doc-link:hover {\n",
              "  /* unfitted */\n",
              "  background-color: var(--sklearn-color-unfitted-level-3);\n",
              "  color: var(--sklearn-color-background);\n",
              "  text-decoration: none;\n",
              "}\n",
              "\n",
              "div.sk-estimator.fitted:hover .sk-estimator-doc-link.fitted:hover,\n",
              ".sk-estimator-doc-link.fitted:hover,\n",
              "div.sk-label-container:hover .sk-estimator-doc-link.fitted:hover,\n",
              ".sk-estimator-doc-link.fitted:hover {\n",
              "  /* fitted */\n",
              "  background-color: var(--sklearn-color-fitted-level-3);\n",
              "  color: var(--sklearn-color-background);\n",
              "  text-decoration: none;\n",
              "}\n",
              "\n",
              "/* Span, style for the box shown on hovering the info icon */\n",
              ".sk-estimator-doc-link span {\n",
              "  display: none;\n",
              "  z-index: 9999;\n",
              "  position: relative;\n",
              "  font-weight: normal;\n",
              "  right: .2ex;\n",
              "  padding: .5ex;\n",
              "  margin: .5ex;\n",
              "  width: min-content;\n",
              "  min-width: 20ex;\n",
              "  max-width: 50ex;\n",
              "  color: var(--sklearn-color-text);\n",
              "  box-shadow: 2pt 2pt 4pt #999;\n",
              "  /* unfitted */\n",
              "  background: var(--sklearn-color-unfitted-level-0);\n",
              "  border: .5pt solid var(--sklearn-color-unfitted-level-3);\n",
              "}\n",
              "\n",
              ".sk-estimator-doc-link.fitted span {\n",
              "  /* fitted */\n",
              "  background: var(--sklearn-color-fitted-level-0);\n",
              "  border: var(--sklearn-color-fitted-level-3);\n",
              "}\n",
              "\n",
              ".sk-estimator-doc-link:hover span {\n",
              "  display: block;\n",
              "}\n",
              "\n",
              "/* \"?\"-specific style due to the `<a>` HTML tag */\n",
              "\n",
              "#sk-container-id-3 a.estimator_doc_link {\n",
              "  float: right;\n",
              "  font-size: 1rem;\n",
              "  line-height: 1em;\n",
              "  font-family: monospace;\n",
              "  background-color: var(--sklearn-color-background);\n",
              "  border-radius: 1rem;\n",
              "  height: 1rem;\n",
              "  width: 1rem;\n",
              "  text-decoration: none;\n",
              "  /* unfitted */\n",
              "  color: var(--sklearn-color-unfitted-level-1);\n",
              "  border: var(--sklearn-color-unfitted-level-1) 1pt solid;\n",
              "}\n",
              "\n",
              "#sk-container-id-3 a.estimator_doc_link.fitted {\n",
              "  /* fitted */\n",
              "  border: var(--sklearn-color-fitted-level-1) 1pt solid;\n",
              "  color: var(--sklearn-color-fitted-level-1);\n",
              "}\n",
              "\n",
              "/* On hover */\n",
              "#sk-container-id-3 a.estimator_doc_link:hover {\n",
              "  /* unfitted */\n",
              "  background-color: var(--sklearn-color-unfitted-level-3);\n",
              "  color: var(--sklearn-color-background);\n",
              "  text-decoration: none;\n",
              "}\n",
              "\n",
              "#sk-container-id-3 a.estimator_doc_link.fitted:hover {\n",
              "  /* fitted */\n",
              "  background-color: var(--sklearn-color-fitted-level-3);\n",
              "}\n",
              "</style><div id=\"sk-container-id-3\" class=\"sk-top-container\"><div class=\"sk-text-repr-fallback\"><pre>LinearRegression()</pre><b>In a Jupyter environment, please rerun this cell to show the HTML representation or trust the notebook. <br />On GitHub, the HTML representation is unable to render, please try loading this page with nbviewer.org.</b></div><div class=\"sk-container\" hidden><div class=\"sk-item\"><div class=\"sk-estimator fitted sk-toggleable\"><input class=\"sk-toggleable__control sk-hidden--visually\" id=\"sk-estimator-id-3\" type=\"checkbox\" checked><label for=\"sk-estimator-id-3\" class=\"sk-toggleable__label fitted sk-toggleable__label-arrow\"><div><div>LinearRegression</div></div><div><a class=\"sk-estimator-doc-link fitted\" rel=\"noreferrer\" target=\"_blank\" href=\"https://scikit-learn.org/1.6/modules/generated/sklearn.linear_model.LinearRegression.html\">?<span>Documentation for LinearRegression</span></a><span class=\"sk-estimator-doc-link fitted\">i<span>Fitted</span></span></div></label><div class=\"sk-toggleable__content fitted\"><pre>LinearRegression()</pre></div> </div></div></div></div>"
            ],
            "text/plain": [
              "LinearRegression()"
            ]
          },
          "execution_count": 197,
          "metadata": {},
          "output_type": "execute_result"
        }
      ],
      "source": [
        "model = LinearRegression()\n",
        "model.fit(Xtrain_final,Ytrain)"
      ]
    },
    {
      "cell_type": "code",
      "execution_count": 198,
      "metadata": {
        "colab": {
          "base_uri": "https://localhost:8080/"
        },
        "id": "7c0deafc",
        "outputId": "abd0ad0b-78da-4228-952a-0d118d430315"
      },
      "outputs": [
        {
          "data": {
            "text/plain": [
              "0.9586584597151575"
            ]
          },
          "execution_count": 198,
          "metadata": {},
          "output_type": "execute_result"
        }
      ],
      "source": [
        "model.score(Xtrain_final,Ytrain)"
      ]
    },
    {
      "cell_type": "code",
      "execution_count": 199,
      "metadata": {
        "colab": {
          "base_uri": "https://localhost:8080/"
        },
        "id": "5bc00360",
        "outputId": "b49c47bb-e7e2-4dad-ca95-b3aaa3cc6333"
      },
      "outputs": [
        {
          "data": {
            "text/plain": [
              "0.8277237466849875"
            ]
          },
          "execution_count": 199,
          "metadata": {},
          "output_type": "execute_result"
        }
      ],
      "source": [
        "model.score(Xtest_final,Ytest)"
      ]
    },
    {
      "cell_type": "code",
      "execution_count": 200,
      "metadata": {
        "id": "jWDTWXm3pMlu"
      },
      "outputs": [],
      "source": [
        "model1 = RandomForestRegressor(\n",
        "        n_estimators=300,\n",
        "        max_depth=None,\n",
        "        random_state=42,\n",
        "        n_jobs=-1)"
      ]
    },
    {
      "cell_type": "code",
      "execution_count": 201,
      "metadata": {
        "id": "Dkb7393UqMo-"
      },
      "outputs": [],
      "source": [
        "from sklearn.metrics import r2_score, mean_squared_error, mean_absolute_error\n",
        "import numpy as np\n",
        "\n",
        "# --- Train ---\n",
        "model1.fit(Xtrain_final, Ytrain)\n",
        "\n",
        "# --- Predictions ---\n",
        "y_train_pred = model1.predict(Xtrain_final)\n",
        "y_test_pred = model1.predict(Xtest_final)\n",
        "\n",
        "\n"
      ]
    },
    {
      "cell_type": "code",
      "execution_count": 202,
      "metadata": {
        "colab": {
          "base_uri": "https://localhost:8080/"
        },
        "id": "UZ73z4OXqQ63",
        "outputId": "dd994886-58d7-43b3-8983-7de03e3d978c"
      },
      "outputs": [
        {
          "name": "stdout",
          "output_type": "stream",
          "text": [
            "📊 Random Forest Evaluation\n",
            "Train R²: 0.973\n",
            "Test  R²: 0.797\n",
            "Train RMSE: 16.98\n",
            "Test  RMSE: 31.55\n",
            "Train MAE: 5.79\n",
            "Test  MAE: 13.99\n"
          ]
        }
      ],
      "source": [
        "# --- Evaluation ---\n",
        "train_r2 = r2_score(Ytrain, y_train_pred)\n",
        "test_r2 = r2_score(Ytest, y_test_pred)\n",
        "\n",
        "train_rmse = np.sqrt(mean_squared_error(Ytrain, y_train_pred))\n",
        "test_rmse = np.sqrt(mean_squared_error(Ytest, y_test_pred))\n",
        "\n",
        "train_mae = mean_absolute_error(Ytrain, y_train_pred)\n",
        "test_mae = mean_absolute_error(Ytest, y_test_pred)\n",
        "\n",
        "# --- Display ---\n",
        "print(\"📊 Random Forest Evaluation\")\n",
        "print(f\"Train R²: {train_r2:.3f}\")\n",
        "print(f\"Test  R²: {test_r2:.3f}\")\n",
        "print(f\"Train RMSE: {train_rmse:.2f}\")\n",
        "print(f\"Test  RMSE: {test_rmse:.2f}\")\n",
        "print(f\"Train MAE: {train_mae:.2f}\")\n",
        "print(f\"Test  MAE: {test_mae:.2f}\")"
      ]
    },
    {
      "cell_type": "code",
      "execution_count": 203,
      "metadata": {
        "colab": {
          "base_uri": "https://localhost:8080/"
        },
        "id": "Tr6JyJD5zTvJ",
        "outputId": "aeef06aa-b31f-4eb6-eba1-c7d22029ad6b"
      },
      "outputs": [],
      "source": [
        "# from xgboost import XGBRegressor\n",
        "# from sklearn.metrics import r2_score, mean_squared_error, mean_absolute_error\n",
        "# import numpy as np\n",
        "\n",
        "# # --- Model ---\n",
        "# xgb_model = XGBRegressor(\n",
        "#     n_estimators=300,\n",
        "#     learning_rate=0.05,   # smaller step, less aggressive\n",
        "#     max_depth=4,          # shallower trees\n",
        "#     subsample=0.7,        # use less data per tree\n",
        "#     colsample_bytree=0.7, # use fewer features per tree\n",
        "#     reg_lambda=1.0,       # L2 regularization\n",
        "#     reg_alpha=0.1,        # L1 regularization\n",
        "#     random_state=42,\n",
        "#     n_jobs=-1\n",
        "# )\n",
        "\n",
        "\n",
        "# # --- Train ---\n",
        "# xgb_model.fit(Xtrain_final, Ytrain)\n",
        "\n",
        "# # --- Predictions ---\n",
        "# y_train_pred = xgb_model.predict(Xtrain_final)\n",
        "# y_test_pred = xgb_model.predict(Xtest_final)\n",
        "\n",
        "# # --- Evaluation ---\n",
        "# train_r2 = r2_score(Ytrain, y_train_pred)\n",
        "# test_r2 = r2_score(Ytest, y_test_pred)\n",
        "\n",
        "# train_rmse = np.sqrt(mean_squared_error(Ytrain, y_train_pred))\n",
        "# test_rmse = np.sqrt(mean_squared_error(Ytest, y_test_pred))\n",
        "\n",
        "# train_mae = mean_absolute_error(Ytrain, y_train_pred)\n",
        "# test_mae = mean_absolute_error(Ytest, y_test_pred)\n",
        "\n",
        "# # --- Display ---\n",
        "# print(\"📊 XGBoost Evaluation\")\n",
        "# print(f\"Train R²: {train_r2:.3f}\")\n",
        "# print(f\"Test  R²: {test_r2:.3f}\")\n",
        "# print(f\"Train RMSE: {train_rmse:.2f}\")\n",
        "# print(f\"Test  RMSE: {test_rmse:.2f}\")\n",
        "# print(f\"Train MAE: {train_mae:.2f}\")\n",
        "# print(f\"Test  MAE: {test_mae:.2f}\")\n"
      ]
    },
    {
      "cell_type": "markdown",
      "metadata": {
        "id": "7539d2ea"
      },
      "source": [
        "HyperParamter for ElasticNet L1+L2"
      ]
    },
    {
      "cell_type": "code",
      "execution_count": 204,
      "metadata": {
        "id": "cQqHX1wYv5tK"
      },
      "outputs": [],
      "source": [
        "# import re\n",
        "# import pandas as pd\n",
        "# import numpy as np\n",
        "\n",
        "# # Constants\n",
        "# CURRENT_YEAR = 2025\n",
        "# ALLOWED_AREA_TYPES = {\"Super built-up Area\", \"Built-up Area\", \"Plot Area\"}\n",
        "# ALLOWED_YN = {\"Yes\", \"No\"}\n",
        "\n",
        "# # Expected to exist from the training notebook:\n",
        "# # - std: fitted StandardScaler (numeric columns)\n",
        "# # - hot: fitted OneHotEncoder (categorical columns)\n",
        "# # - num_col: list of numeric feature names\n",
        "# # - cat_col: list of categorical feature names\n",
        "# # - Xtrain_final: DataFrame used to train models (final column order)\n",
        "# # - model1: your trained RandomForestRegressor\n",
        "\n",
        "\n",
        "# def _norm_text(s: str) -> str:\n",
        "#     return re.sub(r\"\\s+\", \" \", str(s)).strip()\n",
        "\n",
        "\n",
        "# def _normalize_categories(area_type: str, nearby_metro: str):\n",
        "#     at = _norm_text(area_type)\n",
        "#     nm = _norm_text(nearby_metro).title()\n",
        "\n",
        "#     if at not in ALLOWED_AREA_TYPES:\n",
        "#         at = at.replace(\"  \", \" \")\n",
        "#         if at not in ALLOWED_AREA_TYPES:\n",
        "#             at = \"Super built-up Area\"\n",
        "\n",
        "#     if nm not in ALLOWED_YN:\n",
        "#         nm = \"No\"\n",
        "\n",
        "#     return at, nm\n",
        "\n",
        "\n",
        "# def _validate_and_autocorrect(location, sqft, bath, bhk, area_type,\n",
        "#                               availability, nearby_metro, built_year, property_age, age_segment):\n",
        "#     msgs = []\n",
        "\n",
        "#     area_type, nearby_metro = _normalize_categories(area_type, nearby_metro)\n",
        "#     location = _norm_text(location)\n",
        "#     availability = _norm_text(availability)\n",
        "#     age_segment = _norm_text(age_segment)\n",
        "\n",
        "#     sqft = int(sqft)\n",
        "#     bhk = int(bhk)\n",
        "#     bath = int(bath)\n",
        "#     built_year = int(built_year)\n",
        "#     property_age = int(property_age)\n",
        "\n",
        "#     if sqft <= 0:\n",
        "#         raise ValueError(\"total_sqft must be positive.\")\n",
        "#     if bhk <= 0:\n",
        "#         raise ValueError(\"bhk must be positive.\")\n",
        "#     if bath <= 0:\n",
        "#         raise ValueError(\"bath must be positive.\")\n",
        "#     if built_year <= 0 or built_year > CURRENT_YEAR:\n",
        "#         raise ValueError(f\"built_year must be <= {CURRENT_YEAR}.\")\n",
        "\n",
        "#     if sqft < bhk * 300:\n",
        "#         new_bhk = max(1, sqft // 300)\n",
        "#         msgs.append(f\"⚠️ {bhk} BHK unrealistic for {sqft} sqft → adjusted to {new_bhk}.\")\n",
        "#         bhk = new_bhk\n",
        "\n",
        "#     if bath > bhk + 2:\n",
        "#         new_bath = bhk + 2\n",
        "#         msgs.append(f\"⚠️ Too many bathrooms for {bhk} BHK → adjusted to {new_bath}.\")\n",
        "#         bath = new_bath\n",
        "\n",
        "#     expected_age = max(0, CURRENT_YEAR - built_year)\n",
        "#     if property_age != expected_age:\n",
        "#         msgs.append(f\"ℹ️ Property age set to {expected_age} years (from built year {built_year}).\")\n",
        "#         property_age = expected_age\n",
        "\n",
        "#     return {\n",
        "#         \"location\": location,\n",
        "#         \"total_sqft\": sqft,\n",
        "#         \"bhk\": bhk,\n",
        "#         \"bath\": bath,\n",
        "#         \"area_type\": area_type,\n",
        "#         \"availability\": availability,\n",
        "#         \"nearby_metro\": nearby_metro,\n",
        "#         \"built_year\": built_year,\n",
        "#         \"property_age\": property_age,\n",
        "#         \"age_segment\": age_segment\n",
        "#     }, msgs\n",
        "\n",
        "\n",
        "# def _transform_single_row(std, hot, num_col, cat_col, Xtrain_final, row_df: pd.DataFrame) -> pd.DataFrame:\n",
        "#     X_num = std.transform(row_df[num_col])\n",
        "#     X_num_df = pd.DataFrame(X_num, columns=num_col, index=row_df.index)\n",
        "\n",
        "#     X_cat_arr = hot.transform(row_df[cat_col])\n",
        "#     if hasattr(X_cat_arr, \"toarray\"):\n",
        "#         X_cat_arr = X_cat_arr.toarray()\n",
        "#     X_cat_df = pd.DataFrame(X_cat_arr, columns=hot.get_feature_names_out(cat_col), index=row_df.index)\n",
        "\n",
        "#     X_final = pd.concat([X_num_df, X_cat_df], axis=1)\n",
        "\n",
        "#     for col in Xtrain_final.columns:\n",
        "#         if col not in X_final.columns:\n",
        "#             X_final[col] = 0\n",
        "#     return X_final[Xtrain_final.columns]\n",
        "\n",
        "\n",
        "# def predict_price(location, sqft, bath, bhk, area_type,\n",
        "#                   availability='Ready To Move', nearby_metro='No',\n",
        "#                   built_year=2016, property_age=3, age_segment='Mid',\n",
        "#                   sentence_prefix=\"Predicted\"):\n",
        "#     std_row, adjustments = _validate_and_autocorrect(\n",
        "#         location, sqft, bath, bhk, area_type, availability, nearby_metro, built_year, property_age, age_segment\n",
        "#     )\n",
        "\n",
        "#     input_df = pd.DataFrame([{\n",
        "#         'total_sqft': float(std_row['total_sqft']),\n",
        "#         'bath': float(std_row['bath']),\n",
        "#         'bhk': float(std_row['bhk']),\n",
        "#         'built_year': int(std_row['built_year']),\n",
        "#         'property_age': int(std_row['property_age']),\n",
        "#         'area_type': std_row['area_type'],\n",
        "#         'availability': std_row['availability'],\n",
        "#         'location': std_row['location'],\n",
        "#         'Nearby_Metro': std_row['nearby_metro'],\n",
        "#         'age_segment': std_row['age_segment']\n",
        "#     }])\n",
        "\n",
        "#     X_final = _transform_single_row(std, hot, num_col, cat_col, Xtrain_final, input_df)\n",
        "\n",
        "#     # 🔒 Use model1 directly\n",
        "#     price_lakhs = round(float(model1.predict(X_final)[0]), 2)\n",
        "\n",
        "#     if adjustments:\n",
        "#         for msg in adjustments:\n",
        "#             print(msg)\n",
        "#         print(f\"✅ Estimated Price: {price_lakhs} Lakhs\")\n",
        "#         return price_lakhs\n",
        "\n",
        "#     bath_word = \"bathroom\" if int(std_row['bath']) == 1 else \"bathrooms\"\n",
        "#     bhk_word = f\"{int(std_row['bhk'])} BHK\"\n",
        "#     summary = (\n",
        "#         f\"🏠 {sentence_prefix} price for a {bhk_word} with {int(std_row['bath'])} {bath_word} \"\n",
        "#         f\"in {std_row['area_type']} under {std_row['age_segment']} segment at {std_row['location']} \"\n",
        "#         f\"is approximately {price_lakhs} Lakhs.\"\n",
        "#     )\n",
        "#     print(summary)\n",
        "#     return summary\n",
        "\n",
        "\n",
        "# def build_textgen_payload(location, sqft, bath, bhk, area_type,\n",
        "#                           availability='Ready To Move', nearby_metro='No',\n",
        "#                           built_year=2016, property_age=3, age_segment='Mid',\n",
        "#                           allow_mention_of_corrections=False):\n",
        "#     std_row, adjustments = _validate_and_autocorrect(\n",
        "#         location, sqft, bath, bhk, area_type, availability, nearby_metro, built_year, property_age, age_segment\n",
        "#     )\n",
        "\n",
        "#     row_df = pd.DataFrame([{\n",
        "#         'total_sqft': float(std_row['total_sqft']),\n",
        "#         'bath': float(std_row['bath']),\n",
        "#         'bhk': float(std_row['bhk']),\n",
        "#         'built_year': int(std_row['built_year']),\n",
        "#         'property_age': int(std_row['property_age']),\n",
        "#         'area_type': std_row['area_type'],\n",
        "#         'availability': std_row['availability'],\n",
        "#         'location': std_row['location'],\n",
        "#         'Nearby_Metro': std_row['nearby_metro'],\n",
        "#         'age_segment': std_row['age_segment']\n",
        "#     }])\n",
        "\n",
        "#     X_final = _transform_single_row(std, hot, num_col, cat_col, Xtrain_final, row_df)\n",
        "\n",
        "#     # 🔒 Use model1 directly\n",
        "#     price_lakhs = round(float(model1.predict(X_final)[0]), 2)\n",
        "\n",
        "#     corr_flags = {\n",
        "#         \"bhk_adjusted\": any(\"BHK adjusted\" in m for m in adjustments),\n",
        "#         \"bath_adjusted\": any(\"bathrooms adjusted\" in m for m in adjustments),\n",
        "#         \"age_adjusted\": any(\"Property age set\" in m for m in adjustments)\n",
        "#     }\n",
        "\n",
        "#     payload = {\n",
        "#         \"location\": std_row['location'],\n",
        "#         \"total_sqft\": int(std_row['total_sqft']),\n",
        "#         \"bhk\": int(std_row['bhk']),\n",
        "#         \"bath\": int(std_row['bath']),\n",
        "#         \"area_type\": std_row['area_type'],\n",
        "#         \"age_segment\": std_row['age_segment'],\n",
        "#         \"availability\": std_row['availability'],\n",
        "#         \"nearby_metro\": std_row['nearby_metro'],\n",
        "#         \"built_year\": int(std_row['built_year']),\n",
        "#         \"property_age_years\": int(std_row['property_age']),\n",
        "#         \"estimated_price_lakhs\": price_lakhs,\n",
        "#         \"corrections\": corr_flags,\n",
        "#         \"allow_mention_of_corrections\": bool(allow_mention_of_corrections)\n",
        "#     }\n",
        "\n",
        "#     prompt = (\n",
        "#         \"Task: Write one grammatically correct sentence describing the property and its price.\\n\"\n",
        "#         \"Rules:\\n\"\n",
        "#         \"- Do not change any numbers, categories, or names.\\n\"\n",
        "#         \"- Keep it under 30 words.\\n\"\n",
        "#         \"- Use Indian English; keep currency in Lakhs.\\n\"\n",
        "#         \"- Do not add facts not in the JSON.\\n\\n\"\n",
        "#         f\"Data (JSON):\\n{payload}\"\n",
        "#     )\n",
        "\n",
        "#     return payload, prompt\n"
      ]
    },
    {
      "cell_type": "code",
      "execution_count": 205,
      "metadata": {
        "id": "0RBe9fwQuw-w"
      },
      "outputs": [],
      "source": [
        "def predict_price_model1(location, sqft, bath, bhk, area_type,\n",
        "                         availability='Ready To Move', nearby_metro='No',\n",
        "                         built_year=2016, property_age=3, age_segment='Mid'):\n",
        "    # --- Sanity checks ---\n",
        "    if sqft < bhk * 300:\n",
        "        print(f\"⚠️ Warning: {bhk} BHK seems unrealistic for {sqft} sqft. Adjusting BHK...\")\n",
        "        bhk = max(1, sqft // 300)\n",
        "\n",
        "    if bath > bhk + 2:\n",
        "        print(f\"⚠️ Warning: Too many bathrooms for {bhk} BHK. Adjusting to {bhk+2} bathrooms.\")\n",
        "        bath = bhk + 2\n",
        "\n",
        "    # Auto-correct property_age\n",
        "    current_year = 2025\n",
        "    expected_age = current_year - built_year\n",
        "    if property_age != expected_age:\n",
        "        print(f\"ℹ️ Adjusting property age to {expected_age} years (based on built year).\")\n",
        "        property_age = expected_age\n",
        "\n",
        "    # --- Build single row input ---\n",
        "    input_dict = {\n",
        "        'total_sqft': [sqft],\n",
        "        'bath': [bath],\n",
        "        'bhk': [bhk],\n",
        "        'built_year': [built_year],\n",
        "        'property_age': [property_age],\n",
        "        'area_type': [area_type],\n",
        "        'availability': [availability],\n",
        "        'location': [location],\n",
        "        'Nearby_Metro': [nearby_metro],\n",
        "        'age_segment': [age_segment]\n",
        "    }\n",
        "    input_df = pd.DataFrame(input_dict)\n",
        "\n",
        "    # Transform\n",
        "    input_num = std.transform(input_df[num_col])\n",
        "    input_num_df = pd.DataFrame(input_num, columns=num_col)\n",
        "\n",
        "    input_cat = hot.transform(input_df[cat_col])\n",
        "    input_cat_df = pd.DataFrame(input_cat, columns=hot.get_feature_names_out(cat_col))\n",
        "\n",
        "    input_final = pd.concat([input_num_df, input_cat_df], axis=1)\n",
        "\n",
        "    for col in Xtrain_final.columns:\n",
        "        if col not in input_final.columns:\n",
        "            input_final[col] = 0\n",
        "    input_final = input_final[Xtrain_final.columns]\n",
        "\n",
        "    # --- Predict with RandomForest (model1) ---\n",
        "    prediction = model1.predict(input_final)[0]\n",
        "    print(f\"✅ Estimated Price: {round(prediction, 2)} Lakhs\")\n",
        "    return round(prediction, 2)\n"
      ]
    },
    {
      "cell_type": "code",
      "execution_count": 206,
      "metadata": {
        "colab": {
          "base_uri": "https://localhost:8080/"
        },
        "id": "GwknPDd3vL68",
        "outputId": "4277a8cc-46c9-4688-84ee-140b6afa6782"
      },
      "outputs": [
        {
          "name": "stdout",
          "output_type": "stream",
          "text": [
            "ℹ️ Adjusting property age to 9 years (based on built year).\n",
            "✅ Estimated Price: 55.14 Lakhs\n"
          ]
        },
        {
          "data": {
            "text/plain": [
              "np.float64(55.14)"
            ]
          },
          "execution_count": 206,
          "metadata": {},
          "output_type": "execute_result"
        }
      ],
      "source": [
        "predict_price_model1(\"BTM Layout\", sqft=1200, bath=2, bhk=2, area_type=\"Super built-up  Area\")\n"
      ]
    },
    {
      "cell_type": "code",
      "execution_count": 207,
      "metadata": {
        "colab": {
          "base_uri": "https://localhost:8080/"
        },
        "id": "5z600GijvXA4",
        "outputId": "96c99847-0b02-415f-c844-2619e00d3dec"
      },
      "outputs": [
        {
          "name": "stdout",
          "output_type": "stream",
          "text": [
            "ℹ️ Adjusting property age to 5 years (based on built year).\n",
            "✅ Estimated Price: 30.18 Lakhs\n"
          ]
        },
        {
          "data": {
            "text/plain": [
              "np.float64(30.18)"
            ]
          },
          "execution_count": 207,
          "metadata": {},
          "output_type": "execute_result"
        }
      ],
      "source": [
        "predict_price_model1(\n",
        "    location=\"Electronic City\",\n",
        "    sqft=650,\n",
        "    bath=1,\n",
        "    bhk=1,\n",
        "    area_type=\"Super built-up  Area\",\n",
        "    built_year=2020\n",
        ")\n"
      ]
    },
    {
      "cell_type": "code",
      "execution_count": 208,
      "metadata": {
        "colab": {
          "base_uri": "https://localhost:8080/"
        },
        "id": "sLmy_IfTvbZd",
        "outputId": "3c6a2a3e-fdc3-468b-d2d6-2390f3b335fa"
      },
      "outputs": [
        {
          "name": "stdout",
          "output_type": "stream",
          "text": [
            "ℹ️ Adjusting property age to 10 years (based on built year).\n",
            "✅ Estimated Price: 66.65 Lakhs\n"
          ]
        },
        {
          "data": {
            "text/plain": [
              "np.float64(66.65)"
            ]
          },
          "execution_count": 208,
          "metadata": {},
          "output_type": "execute_result"
        }
      ],
      "source": [
        "predict_price_model1(\n",
        "    location=\"BTM Layout\",\n",
        "    sqft=1200,\n",
        "    bath=2,\n",
        "    bhk=2,\n",
        "    area_type=\"Built-up  Area\",\n",
        "    availability=\"Ready To Move\",\n",
        "    built_year=2015\n",
        ")\n"
      ]
    },
    {
      "cell_type": "code",
      "execution_count": 209,
      "metadata": {
        "colab": {
          "base_uri": "https://localhost:8080/"
        },
        "id": "vcrDzIEJvf9f",
        "outputId": "1853c589-2961-4c07-f8a3-6d63614a3960"
      },
      "outputs": [
        {
          "name": "stdout",
          "output_type": "stream",
          "text": [
            "ℹ️ Adjusting property age to 7 years (based on built year).\n",
            "✅ Estimated Price: 111.54 Lakhs\n"
          ]
        },
        {
          "data": {
            "text/plain": [
              "np.float64(111.54)"
            ]
          },
          "execution_count": 209,
          "metadata": {},
          "output_type": "execute_result"
        }
      ],
      "source": [
        "predict_price_model1(\n",
        "    location=\"Whitefield\",\n",
        "    sqft=1800,\n",
        "    bath=3,\n",
        "    bhk=3,\n",
        "    area_type=\"Super built-up  Area\",\n",
        "    nearby_metro=\"Yes\",\n",
        "    built_year=2018\n",
        ")\n"
      ]
    },
    {
      "cell_type": "code",
      "execution_count": 210,
      "metadata": {
        "colab": {
          "base_uri": "https://localhost:8080/"
        },
        "id": "AAKltnYivkae",
        "outputId": "0650b78a-2e7f-4d04-e5e8-5fb0a55a5eac"
      },
      "outputs": [
        {
          "name": "stdout",
          "output_type": "stream",
          "text": [
            "ℹ️ Adjusting property age to 20 years (based on built year).\n",
            "✅ Estimated Price: 152.98 Lakhs\n"
          ]
        },
        {
          "data": {
            "text/plain": [
              "np.float64(152.98)"
            ]
          },
          "execution_count": 210,
          "metadata": {},
          "output_type": "execute_result"
        }
      ],
      "source": [
        "predict_price_model1(\n",
        "    location=\"Jayanagar\",\n",
        "    sqft=2500,\n",
        "    bath=4,\n",
        "    bhk=4,\n",
        "    area_type=\"Plot  Area\",\n",
        "    built_year=2005\n",
        ")\n"
      ]
    },
    {
      "cell_type": "code",
      "execution_count": 211,
      "metadata": {
        "colab": {
          "base_uri": "https://localhost:8080/"
        },
        "id": "x_akf_p-vuRG",
        "outputId": "76498b71-d7ba-4438-c1fb-b5875296776b"
      },
      "outputs": [
        {
          "name": "stdout",
          "output_type": "stream",
          "text": [
            "ℹ️ Adjusting property age to 1 years (based on built year).\n",
            "✅ Estimated Price: 243.28 Lakhs\n"
          ]
        },
        {
          "data": {
            "text/plain": [
              "np.float64(243.28)"
            ]
          },
          "execution_count": 211,
          "metadata": {},
          "output_type": "execute_result"
        }
      ],
      "source": [
        "predict_price_model1(\n",
        "    location=\"Koramangala\",\n",
        "    sqft=3000,\n",
        "    bath=4,\n",
        "    bhk=4,\n",
        "    area_type=\"Super built-up  Area\",\n",
        "    availability=\"Under Construction\",\n",
        "    built_year=2024\n",
        ")\n"
      ]
    },
    {
      "cell_type": "code",
      "execution_count": 212,
      "metadata": {
        "colab": {
          "base_uri": "https://localhost:8080/"
        },
        "id": "F6o8LsZx0Tqm",
        "outputId": "ca907ec6-7b12-4cf9-8142-1e366c8ee6b1"
      },
      "outputs": [
        {
          "name": "stdout",
          "output_type": "stream",
          "text": [
            "ℹ️ Adjusting property age to 2 years (based on built year).\n",
            "✅ Estimated Price: 1101.5 Lakhs\n"
          ]
        },
        {
          "data": {
            "text/plain": [
              "np.float64(1101.5)"
            ]
          },
          "execution_count": 212,
          "metadata": {},
          "output_type": "execute_result"
        }
      ],
      "source": [
        "predict_price_model1(\n",
        "    location=\"Koramangala\",\n",
        "    sqft=10000,\n",
        "    bhk=8,\n",
        "    bath=10,\n",
        "    area_type=\"Super built-up  Area\",\n",
        "    availability=\"Ready To Move\",\n",
        "    built_year=2023\n",
        ")\n"
      ]
    },
    {
      "cell_type": "code",
      "execution_count": 213,
      "metadata": {
        "colab": {
          "base_uri": "https://localhost:8080/"
        },
        "id": "adKPdJgE1ZiL",
        "outputId": "2e73d03a-1add-4b76-876e-af61233e4b69"
      },
      "outputs": [
        {
          "name": "stdout",
          "output_type": "stream",
          "text": [
            "ℹ️ Adjusting property age to 7 years (based on built year).\n",
            "✅ Estimated Price: 23.89 Lakhs\n"
          ]
        },
        {
          "data": {
            "text/plain": [
              "np.float64(23.89)"
            ]
          },
          "execution_count": 213,
          "metadata": {},
          "output_type": "execute_result"
        }
      ],
      "source": [
        "# 🔹 2. Small Apartment in Prime Area\n",
        "predict_price_model1(\n",
        "    location=\"Whitefield\",\n",
        "    sqft=500,\n",
        "    bhk=1,\n",
        "    bath=1,\n",
        "    area_type=\"Built-up  Area\",\n",
        "    availability=\"Ready To Move\",\n",
        "    built_year=2018\n",
        ")"
      ]
    },
    {
      "cell_type": "code",
      "execution_count": 214,
      "metadata": {
        "colab": {
          "base_uri": "https://localhost:8080/"
        },
        "id": "jWd6bZsH2i2l",
        "outputId": "2bf0dac5-fb26-4055-d0de-aa9a0d84ea35"
      },
      "outputs": [
        {
          "name": "stdout",
          "output_type": "stream",
          "text": [
            "ℹ️ Adjusting property age to 10 years (based on built year).\n",
            "✅ Estimated Price: 256.97 Lakhs\n"
          ]
        },
        {
          "data": {
            "text/plain": [
              "np.float64(256.97)"
            ]
          },
          "execution_count": 214,
          "metadata": {},
          "output_type": "execute_result"
        }
      ],
      "source": [
        "predict_price_model1(\n",
        "    location=\"Kengeri\",\n",
        "    sqft=4000,\n",
        "    bhk=5,\n",
        "    bath=6,\n",
        "    area_type=\"Super built-up  Area\",\n",
        "    availability=\"Ready To Move\",\n",
        "    built_year=2015\n",
        ")"
      ]
    },
    {
      "cell_type": "code",
      "execution_count": 215,
      "metadata": {
        "colab": {
          "base_uri": "https://localhost:8080/"
        },
        "id": "8y2vYqSp35NV",
        "outputId": "a334e3db-4a98-4561-de38-441739333be2"
      },
      "outputs": [
        {
          "name": "stdout",
          "output_type": "stream",
          "text": [
            "ℹ️ Adjusting property age to 9 years (based on built year).\n",
            "✅ Estimated Price: 120.55 Lakhs\n"
          ]
        },
        {
          "data": {
            "text/plain": [
              "np.float64(120.55)"
            ]
          },
          "execution_count": 215,
          "metadata": {},
          "output_type": "execute_result"
        }
      ],
      "source": [
        "# Banashankari property with metro nearby\n",
        "predict_price_model1(\n",
        "    location=\"Banashankari\",\n",
        "    sqft=2000,\n",
        "    bhk=3,\n",
        "    bath=3,\n",
        "    area_type=\"Super built-up  Area\",\n",
        "    availability=\"Ready To Move\",\n",
        "    built_year=2016,\n",
        "    nearby_metro=\"Yes\"\n",
        ")\n"
      ]
    },
    {
      "cell_type": "code",
      "execution_count": 216,
      "metadata": {
        "colab": {
          "base_uri": "https://localhost:8080/"
        },
        "id": "Hc9mvCDs4ls2",
        "outputId": "d75297a9-7212-4f13-fed5-ae2905b21687"
      },
      "outputs": [
        {
          "name": "stdout",
          "output_type": "stream",
          "text": [
            "✅ Estimated Price: 162.81 Lakhs\n"
          ]
        },
        {
          "data": {
            "text/plain": [
              "np.float64(162.81)"
            ]
          },
          "execution_count": 216,
          "metadata": {},
          "output_type": "execute_result"
        }
      ],
      "source": [
        "predict_price_model1(\n",
        "    location=\"MG Road\",\n",
        "    sqft=2500,\n",
        "    bhk=4,\n",
        "    bath=4,\n",
        "    area_type=\"Super built-up  Area\",\n",
        "    availability=\"Ready To Move\",\n",
        "    built_year=2022\n",
        ")\n"
      ]
    },
    {
      "cell_type": "code",
      "execution_count": 217,
      "metadata": {
        "id": "b8SvVrBk8j8E"
      },
      "outputs": [],
      "source": [
        "# Export the tested model to a pickle file\n",
        "import pickle\n",
        "with open('banglore_home_prices_model.pickle','wb') as f:\n",
        "    pickle.dump(model1,f)\n"
      ]
    },
    {
      "cell_type": "code",
      "execution_count": 218,
      "metadata": {
        "id": "NaNMEOyi8qt0"
      },
      "outputs": [],
      "source": [
        "# Export location and column information to a file that will be useful later on in our prediction application\n",
        "import json\n",
        "\n",
        "columns = {\n",
        "    'data_columns': list(Xtrain_final.columns)  # keep original case\n",
        "}\n",
        "\n",
        "with open(\"columns.json\", \"w\") as f:\n",
        "    f.write(json.dumps(columns))\n"
      ]
    },
    {
      "cell_type": "code",
      "execution_count": 219,
      "metadata": {
        "id": "7CfdoRw19A0f"
      },
      "outputs": [],
      "source": [
        "import pickle\n",
        "with open(\"std_scaler.pickle\", \"wb\") as f:\n",
        "    pickle.dump(std, f)\n"
      ]
    }
  ],
  "metadata": {
    "accelerator": "TPU",
    "colab": {
      "gpuType": "V28",
      "provenance": [],
      "runtime_attributes": {
        "runtime_version": "2025.07"
      }
    },
    "kernelspec": {
      "display_name": "Python 3",
      "name": "python3"
    },
    "language_info": {
      "codemirror_mode": {
        "name": "ipython",
        "version": 3
      },
      "file_extension": ".py",
      "mimetype": "text/x-python",
      "name": "python",
      "nbconvert_exporter": "python",
      "pygments_lexer": "ipython3",
      "version": "3.13.5"
    }
  },
  "nbformat": 4,
  "nbformat_minor": 0
}
